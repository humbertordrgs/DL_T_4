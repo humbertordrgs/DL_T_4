{
  "nbformat": 4,
  "nbformat_minor": 0,
  "metadata": {
    "colab": {
      "name": "Task 4 Humberto Rodrigues Deep Learning Universidad de Chile",
      "provenance": [],
      "collapsed_sections": [
        "w9qzrGbKRRxh",
        "nwTQpC0eCKp3",
        "tE6uDwmJ94-W",
        "v-GsOTY-sEOF",
        "cn41UPw7sqIm"
      ],
      "toc_visible": true
    },
    "kernelspec": {
      "display_name": "Python 3",
      "name": "python3"
    },
    "accelerator": "GPU"
  },
  "cells": [
    {
      "cell_type": "markdown",
      "metadata": {
        "id": "4zhjpqvcdo5o"
      },
      "source": [
        "# Task 4: Convolutional Networks <br/> CC6204 Deep Learning, Universidad de Chile.\n",
        "\n",
        "## Name: Humberto Rodrigues \n"
      ]
    },
    {
      "cell_type": "code",
      "metadata": {
        "id": "64BkmYga3UN_",
        "colab": {
          "base_uri": "https://localhost:8080/"
        },
        "outputId": "e20b76e5-94e3-48c7-d4f7-73203e20cc81"
      },
      "source": [
        "import os\n",
        "import sys\n",
        "import random\n",
        "import pickle\n",
        "\n",
        "import torch\n",
        "import torch.nn as nn\n",
        "import torch.nn.functional as F\n",
        "import torch.optim as optim\n",
        "from torch.utils.data import Dataset, DataLoader\n",
        "import numpy as np\n",
        "from scipy.spatial import distance\n",
        "\n",
        "import torchvision\n",
        "import torchvision.transforms as transforms\n",
        "\n",
        "# Downloading external utils library\n",
        "if not os.path.exists('utils.py'):\n",
        "  !wget https://raw.githubusercontent.com/dccuchile/CC6204/master/2020/tareas/tarea4/utils.py\n",
        "\n",
        "from utils import ImageCaptionDataset, train_for_classification, train_for_retrieval"
      ],
      "execution_count": null,
      "outputs": [
        {
          "output_type": "stream",
          "text": [
            "--2020-12-18 23:43:59--  https://raw.githubusercontent.com/dccuchile/CC6204/master/2020/tareas/tarea4/utils.py\n",
            "Resolving raw.githubusercontent.com (raw.githubusercontent.com)... 151.101.0.133, 151.101.64.133, 151.101.128.133, ...\n",
            "Connecting to raw.githubusercontent.com (raw.githubusercontent.com)|151.101.0.133|:443... connected.\n",
            "HTTP request sent, awaiting response... 200 OK\n",
            "Length: 7403 (7.2K) [text/plain]\n",
            "Saving to: ‘utils.py’\n",
            "\n",
            "\rutils.py              0%[                    ]       0  --.-KB/s               \rutils.py            100%[===================>]   7.23K  --.-KB/s    in 0s      \n",
            "\n",
            "2020-12-18 23:43:59 (109 MB/s) - ‘utils.py’ saved [7403/7403]\n",
            "\n"
          ],
          "name": "stdout"
        }
      ]
    },
    {
      "cell_type": "code",
      "metadata": {
        "id": "jtwf7_btPh7n",
        "colab": {
          "base_uri": "https://localhost:8080/"
        },
        "outputId": "fab4dd05-d984-47bd-cc7d-83e6e54168db"
      },
      "source": [
        "# Installing auto test runner\n",
        "!pip install -U \"git+https://github.com/dccuchile/CC6204.git@master#egg=cc6204&subdirectory=autocorrect\"\n",
        "from timeit import default_timer as timer\n",
        "from cc6204 import AutoCorrect, FailedTest\n",
        "corrector = AutoCorrect(host=\"cc6204.dcc.uchile.cl\", port=443)\n",
        "token = \"]ye/Ox;nsz\""
      ],
      "execution_count": null,
      "outputs": [
        {
          "output_type": "stream",
          "text": [
            "Collecting cc6204\n",
            "  Cloning https://github.com/dccuchile/CC6204.git (to revision master) to /tmp/pip-install-mahbyxam/cc6204\n",
            "  Running command git clone -q https://github.com/dccuchile/CC6204.git /tmp/pip-install-mahbyxam/cc6204\n",
            "Requirement already satisfied, skipping upgrade: requests in /usr/local/lib/python3.6/dist-packages (from cc6204) (2.23.0)\n",
            "Requirement already satisfied, skipping upgrade: numpy in /usr/local/lib/python3.6/dist-packages (from cc6204) (1.19.4)\n",
            "Requirement already satisfied, skipping upgrade: torch in /usr/local/lib/python3.6/dist-packages (from cc6204) (1.7.0+cu101)\n",
            "Requirement already satisfied, skipping upgrade: certifi>=2017.4.17 in /usr/local/lib/python3.6/dist-packages (from requests->cc6204) (2020.12.5)\n",
            "Requirement already satisfied, skipping upgrade: chardet<4,>=3.0.2 in /usr/local/lib/python3.6/dist-packages (from requests->cc6204) (3.0.4)\n",
            "Requirement already satisfied, skipping upgrade: urllib3!=1.25.0,!=1.25.1,<1.26,>=1.21.1 in /usr/local/lib/python3.6/dist-packages (from requests->cc6204) (1.24.3)\n",
            "Requirement already satisfied, skipping upgrade: idna<3,>=2.5 in /usr/local/lib/python3.6/dist-packages (from requests->cc6204) (2.10)\n",
            "Requirement already satisfied, skipping upgrade: typing-extensions in /usr/local/lib/python3.6/dist-packages (from torch->cc6204) (3.7.4.3)\n",
            "Requirement already satisfied, skipping upgrade: future in /usr/local/lib/python3.6/dist-packages (from torch->cc6204) (0.16.0)\n",
            "Requirement already satisfied, skipping upgrade: dataclasses in /usr/local/lib/python3.6/dist-packages (from torch->cc6204) (0.8)\n",
            "Building wheels for collected packages: cc6204\n",
            "  Building wheel for cc6204 (setup.py) ... \u001b[?25l\u001b[?25hdone\n",
            "  Created wheel for cc6204: filename=cc6204-0.5.0-cp36-none-any.whl size=5802 sha256=71549966d9e3aeac8046a3bcb185b7dc7b0d4962d7841260fd1fa981d298b3c9\n",
            "  Stored in directory: /tmp/pip-ephem-wheel-cache-o_ei0wjc/wheels/62/f0/30/aadcb7ce24a2f9c935890518e902d4e23bf97b80f47bb64414\n",
            "Successfully built cc6204\n",
            "Installing collected packages: cc6204\n",
            "Successfully installed cc6204-0.5.0\n",
            "Connection stablished\n"
          ],
          "name": "stdout"
        }
      ]
    },
    {
      "cell_type": "code",
      "metadata": {
        "id": "tnux9hNPSVYv"
      },
      "source": [
        "import plotly.graph_objects as go\n",
        "import plotly.io as pio\n",
        "pio.renderers.default='colab'\n",
        "\n",
        "def plot_results(loss_data, scores_data, secore_2_data=None):\n",
        "  loss_fig = go.Figure()\n",
        "  for result in loss_data:\n",
        "    x_axis = result[\"x\"]\n",
        "    y_axis = result[\"y\"]\n",
        "    loss_fig.add_scatter(\n",
        "        x=x_axis,\n",
        "        y=y_axis,\n",
        "        mode=\"lines+markers\", \n",
        "        textposition=\"bottom center\",\n",
        "        name=result[\"name\"]\n",
        "    )\n",
        "  loss_fig.update_layout(\n",
        "      autosize=False,\n",
        "      width=700,\n",
        "      height=450,\n",
        "      title=\"Loss Chart\",\n",
        "      xaxis_title=\"Epochs\",\n",
        "      yaxis_title=\"Loss\",\n",
        "      font=dict(\n",
        "          family=\"Courier New, monospace\",\n",
        "          size=14,\n",
        "          color=\"#7f7f7f\"\n",
        "      )\n",
        "  )\n",
        "  loss_fig.show()\n",
        "  print(\"\\n\")\n",
        "  acc_fig = go.Figure()\n",
        "  for result in scores_data:\n",
        "    x_axis = result[\"x\"]\n",
        "    y_axis = result[\"y\"]\n",
        "    acc_fig.add_scatter( \n",
        "        x=x_axis,\n",
        "        y=y_axis,\n",
        "        mode=\"lines+markers\", \n",
        "        textposition=\"bottom center\",\n",
        "        name=result[\"name\"]\n",
        "    )\n",
        "  acc_fig.update_layout(\n",
        "      autosize=False,\n",
        "      width=700,\n",
        "      height=450,\n",
        "      title=\"Metric Chart\",\n",
        "      xaxis_title=\"Epochs\",\n",
        "      yaxis_title=\"Score\",\n",
        "      font=dict(\n",
        "          family=\"Courier New, monospace\",\n",
        "          size=14,\n",
        "          color=\"#7f7f7f\"\n",
        "      )\n",
        "  )\n",
        "  acc_fig.show()\n",
        "\n",
        "  if secore_2_data:\n",
        "    print(\"\\n\")\n",
        "    sc_fig = go.Figure()\n",
        "    for result in secore_2_data:\n",
        "      x_axis = result[\"x\"]\n",
        "      y_axis = result[\"y\"]\n",
        "      sc_fig.add_scatter( \n",
        "          x=x_axis,\n",
        "          y=y_axis,\n",
        "          mode=\"lines+markers\", \n",
        "          textposition=\"bottom center\",\n",
        "          name=result[\"name\"]\n",
        "      )\n",
        "    sc_fig.update_layout(\n",
        "        autosize=False,\n",
        "        width=700,\n",
        "        height=450,\n",
        "        title=\"Metric Chart\",\n",
        "        xaxis_title=\"Epochs\",\n",
        "        yaxis_title=\"Score\",\n",
        "        font=dict(\n",
        "            family=\"Courier New, monospace\",\n",
        "            size=14,\n",
        "            color=\"#7f7f7f\"\n",
        "        )\n",
        "    )\n",
        "    sc_fig.show()\n",
        "\n"
      ],
      "execution_count": null,
      "outputs": []
    },
    {
      "cell_type": "markdown",
      "metadata": {
        "id": "6Mw8PKh-uF7P"
      },
      "source": [
        "# Part 1: Most common convolutional architechtures GoogleNet & ResNet \r\n",
        "In this section We will be exploring few of the initial deep convolutional networks. In first place we need to implement a version of `GoogleNet` with some small changes mostly related to the fact that originally this models were designed to work with input images of `3x224x224` and in this work we will be using `3x32x32`. This means that some of the initial reductions applied to the image in the original architechture will not be applied here.\r\n",
        "\r\n",
        "The main idea behind the models is not only to create really deep convolutional networks but also deal with the `vanishing gradient` problem that comes associated with that fact."
      ]
    },
    {
      "cell_type": "markdown",
      "metadata": {
        "id": "w9qzrGbKRRxh"
      },
      "source": [
        "## GoogleNet\r\n",
        "\r\n",
        "This model has a total of 20 layers and was the `state-of-the-art` for image classification problem during 2015. It has two main particularities which are also the reason behind why this structure worked so well at that moment.\r\n",
        "\r\n",
        "The general philosophy is to increase the number of channels and reduce the size of the image from layer to layer. This can bring some big ammount of operation in some specific parts of the model, to avoid this: convolutional layers of `1x1` are added.\r\n",
        "\r\n",
        "Another important concept added was the `Inception module` which consists in apply different transformations to the input in `parallel` and generate a single output with all the results.\r\n",
        "\r\n",
        "Finally the most notable feature is the way to deal with the `vanishing gradient` problem. the proposed solutions add two additional `outputs` in the middle of the structure changing the loss value as the average of all of them. The implication of this is that now the gradient will be able to reach far layers connected to those additional inputs by two different ways during the `backpropagation` algorithm."
      ]
    },
    {
      "cell_type": "code",
      "metadata": {
        "id": "pVeNZDV8RlDr"
      },
      "source": [
        "# We will be using nn.Sequential during all this work\n",
        "# To have cleaner forward methods\n",
        "\n",
        "class InceptionModule(nn.Module):\n",
        "  def __init__(self, \n",
        "    in_channels, \n",
        "    ch_3x3_reduce=96, \n",
        "    ch_5x5_reduce=16,\n",
        "    ch_3x3=128,\n",
        "    ch_5x5=32,\n",
        "    ch_pool_proj=32,\n",
        "    ch_1x1=64\n",
        "  ):\n",
        "    super(InceptionModule, self).__init__()\n",
        "\n",
        "    self.seq_1 = nn.Sequential(\n",
        "      nn.Conv2d(in_channels=in_channels,out_channels=ch_3x3_reduce,kernel_size=1),\n",
        "      nn.ReLU(),\n",
        "      nn.Conv2d(in_channels=ch_3x3_reduce,out_channels=ch_3x3,kernel_size=3,padding=1),\n",
        "      nn.ReLU(),\n",
        "    )\n",
        "\n",
        "    self.seq_2 = nn.Sequential(\n",
        "      nn.Conv2d(in_channels=in_channels,out_channels=ch_5x5_reduce,kernel_size=1),\n",
        "      nn.ReLU(),\n",
        "      nn.Conv2d(in_channels=ch_5x5_reduce,out_channels=ch_5x5,kernel_size=5,padding=2),\n",
        "      nn.ReLU(),\n",
        "    )\n",
        "\n",
        "    self.seq_3 = nn.Sequential(\n",
        "      nn.MaxPool2d(kernel_size=3,padding=1,stride=1),\n",
        "      nn.ReLU(),\n",
        "      nn.Conv2d(in_channels=in_channels,out_channels=ch_pool_proj,kernel_size=1),\n",
        "      nn.ReLU(),\n",
        "    )\n",
        "\n",
        "    self.seq_4 = nn.Sequential(\n",
        "      nn.Conv2d(in_channels=in_channels,out_channels=ch_1x1,kernel_size=1),\n",
        "      nn.ReLU(),\n",
        "    )   \n",
        "\n",
        "  def forward(self, x):\n",
        "    return torch.cat((self.seq_1(x),self.seq_2(x),self.seq_3(x),self.seq_4(x)),1)"
      ],
      "execution_count": null,
      "outputs": []
    },
    {
      "cell_type": "code",
      "metadata": {
        "id": "jPrUvDmXuhNr"
      },
      "source": [
        "# Auxiliar module with the common structure for the auxiliar outputs\n",
        "class IntermediateOutputBlock(nn.Module):\n",
        "  def __init__(self, in_channels):\n",
        "    super(IntermediateOutputBlock, self).__init__()\n",
        "    self.seq = nn.Sequential(\n",
        "      nn.AvgPool2d(kernel_size=5,stride=3,padding=1),\n",
        "      nn.ReLU(),\n",
        "      nn.Conv2d(in_channels=in_channels,out_channels=128,stride=1,kernel_size=4,padding=1),\n",
        "      nn.ReLU(),\n",
        "      nn.Flatten(),\n",
        "      nn.Linear(2048,1024),\n",
        "      nn.ReLU(),\n",
        "      nn.Dropout(p=0.7)\n",
        "    )\n",
        "  def forward(self, x):\n",
        "    return self.seq(x)\n",
        "    "
      ],
      "execution_count": null,
      "outputs": []
    },
    {
      "cell_type": "code",
      "metadata": {
        "id": "i5AxECptzqin",
        "colab": {
          "base_uri": "https://localhost:8080/"
        },
        "outputId": "1233604c-2b4a-495d-f66c-f4d39d356e12"
      },
      "source": [
        "# Running automatic tests to validate our Inception Modules\n",
        "x, in_chs, ch_1x1, ch_3x3_red, ch_3x3, ch_5x5_red, ch_5x5, ch_pool_proj = corrector.get_test_data(homework=4, question=\"1a\", test=1, token=token)\n",
        "\n",
        "with torch.no_grad():\n",
        "  model = InceptionModule(in_chs, ch_3x3_red, ch_5x5_red, ch_3x3, ch_5x5, ch_pool_proj, ch_1x1)\n",
        "  s = timer()\n",
        "  result = model(torch.tensor(x))\n",
        "  t = timer()-s\n",
        "\n",
        "corrector.submit(homework=4, question=\"1a\", test=1, token=token, answer=list(result.size()), time=t)"
      ],
      "execution_count": null,
      "outputs": [
        {
          "output_type": "stream",
          "text": [
            "Correct Test!\n"
          ],
          "name": "stdout"
        }
      ]
    },
    {
      "cell_type": "code",
      "metadata": {
        "id": "fd3iSAd7oXKN"
      },
      "source": [
        "class GoogLeNet(nn.Module):\n",
        "  def __init__(self, n_classes, use_aux_logits=True):\n",
        "    super(GoogLeNet, self).__init__()\n",
        "\n",
        "    # We will be defining our google net model as a combination of sequential executions\n",
        "    # Activations approach and regularization methods were implemented\n",
        "    # Based on the original references\n",
        "\n",
        "    self.first_block = nn.Sequential(\n",
        "      nn.Conv2d(in_channels=3,out_channels=64,stride=1,kernel_size=7,padding=3),\n",
        "      nn.ReLU(),\n",
        "      nn.MaxPool2d(kernel_size=3,stride=1,padding=1),\n",
        "      nn.ReLU(),\n",
        "      nn.Conv2d(in_channels=64,out_channels=64,stride=1,kernel_size=1),\n",
        "      nn.ReLU(),\n",
        "      nn.Conv2d(in_channels=64,out_channels=192,stride=1,kernel_size=3,padding=1),\n",
        "      nn.ReLU(),\n",
        "      nn.MaxPool2d(kernel_size=3,stride=1,padding=1),\n",
        "      nn.ReLU(),\n",
        "      InceptionModule(192),\n",
        "      InceptionModule(256,96,16,240,60,60,120),\n",
        "      nn.MaxPool2d(kernel_size=3,stride=2),\n",
        "      nn.ReLU(),\n",
        "      InceptionModule(480,96,16,256,64,64,128)\n",
        "    )\n",
        "\n",
        "    # Temptative first output block\n",
        "    self.output_1 = nn.Sequential(\n",
        "      IntermediateOutputBlock(512),\n",
        "      nn.Linear(1024,n_classes)\n",
        "    )\n",
        "\n",
        "    # output for this one 528 channels\n",
        "    self.second_block = nn.Sequential(\n",
        "      InceptionModule(512,96,16,256,64,64,128),\n",
        "      InceptionModule(512,96,16,256,64,64,128),\n",
        "      InceptionModule(512,96,16,264,66,66,132)\n",
        "    )\n",
        "\n",
        "    # Temptative first output block\n",
        "    self.output_2 = nn.Sequential(\n",
        "      IntermediateOutputBlock(528),\n",
        "      nn.Linear(1024,n_classes)\n",
        "    )\n",
        "\n",
        "    self.third_block = nn.Sequential(\n",
        "      InceptionModule(528,96,16,416,104,104,208),\n",
        "      nn.MaxPool2d(kernel_size=3,stride=2),\n",
        "      nn.ReLU(),\n",
        "      InceptionModule(832,96,16,416,104,104,208),\n",
        "      InceptionModule(832,96,16,512,128,128,256),\n",
        "      nn.AvgPool2d(kernel_size=7),\n",
        "      nn.ReLU(),\n",
        "      nn.Flatten(),\n",
        "    )\n",
        "\n",
        "    self.output_block = nn.Sequential(\n",
        "      nn.Dropout(p=0.4),\n",
        "      nn.Linear(1024,n_classes)\n",
        "    )\n",
        "\n",
        "\n",
        "  def forward(self, x):\n",
        "    aux_logits = []\n",
        "    x = self.first_block(x)\n",
        "    \n",
        "    if self.training:\n",
        "      aux_logits.append(self.output_1(x))\n",
        "\n",
        "    x = self.second_block(x)\n",
        "    \n",
        "    if self.training:\n",
        "      aux_logits.append(self.output_2(x))\n",
        "    \n",
        "    x = self.third_block(x)\n",
        "\n",
        "    hidden = x\n",
        "\n",
        "    res = self.output_block(x)\n",
        "\n",
        "    return {'hidden': hidden, 'logits': res, 'aux_logits': aux_logits}"
      ],
      "execution_count": null,
      "outputs": []
    },
    {
      "cell_type": "code",
      "metadata": {
        "id": "vQs327QW0Fnd",
        "colab": {
          "base_uri": "https://localhost:8080/"
        },
        "outputId": "22487b09-52d7-440d-8280-03681056f8cd"
      },
      "source": [
        "# Running automatic test to validate our GoogleNet model\n",
        "x, n_classes, use_aux_logits = corrector.get_test_data(homework=4, question=\"1b\", test=1, token=token)\n",
        "\n",
        "with torch.no_grad():\n",
        "  model = GoogLeNet(n_classes=n_classes, use_aux_logits=use_aux_logits)\n",
        "  s = timer()\n",
        "  result = model(torch.tensor(x))\n",
        "  t = timer()-s\n",
        "\n",
        "sizes = [result['hidden'].shape[0]] + list(result['logits'].size()) + [d for a in result['aux_logits'] for d in a.size()]\n",
        "corrector.submit(homework=4, question=\"1b\", test=1, token=token, answer=sizes, time=t)"
      ],
      "execution_count": null,
      "outputs": [
        {
          "output_type": "stream",
          "text": [
            "Correct Test!\n"
          ],
          "name": "stdout"
        }
      ]
    },
    {
      "cell_type": "markdown",
      "metadata": {
        "id": "nwTQpC0eCKp3"
      },
      "source": [
        "## ResNet\n",
        "Resnet was released after `GoogleNet` and it follows a similar strategy in terms of how the input in changing through the netwrok.\n",
        "\n",
        "The principal differences are the size of the models and the way they deal with `vanishing gradient`. For Restnet the base proposal is a model with 34 layers composed by several normal convulutional layers and `Residual Blocks`.\n",
        "\n",
        "A Residual block is the way this model deals with the `deepness` related problems, it consists in module with several convolutional operations added at the end with the `raw-input` of the block itself. The implication of this is that now we are giving to the gradient multiple ways to travel along the network `discarding` some operations that are maybe not needed and going further away.\n",
        "\n",
        "\n",
        "We will be also working with a variant of `ResNet-34` which is called `ResNet-50`. This one uses `ResidualBottleNeckBlock` which is a residual block with an additional `1x1` convolutional operation at the beggining of it and a (4 * output channels) layer at the end. This will be increasing the number of channels we will be handling inside our model. The `BottleNeck` strategy is to reduce the number of operations we do with the now bigger output of the residual block.\n"
      ]
    },
    {
      "cell_type": "code",
      "metadata": {
        "id": "HMLkLKGFoTKa"
      },
      "source": [
        "import math\n",
        "class ResidualBlock(nn.Module):\n",
        "  def __init__(self, in_channels, out_channels, kernel_size, increase_initial_stride=False):\n",
        "    super(ResidualBlock, self).__init__()\n",
        "\n",
        "    self.seq_1 = nn.Sequential(\n",
        "      nn.Conv2d(\n",
        "        in_channels=in_channels,\n",
        "        out_channels=out_channels,\n",
        "        kernel_size=kernel_size,\n",
        "        stride=2 if increase_initial_stride else 1,\n",
        "        padding=math.ceil(float((kernel_size-1)) / 2.0)\n",
        "      ),\n",
        "      nn.BatchNorm2d(out_channels),\n",
        "      nn.ReLU(),\n",
        "      nn.Conv2d(\n",
        "        in_channels=out_channels,\n",
        "        out_channels=out_channels,\n",
        "        kernel_size=kernel_size,\n",
        "        stride=1,\n",
        "        padding=math.ceil(float((kernel_size-1)) / 2.0)\n",
        "      ),\n",
        "      nn.BatchNorm2d(out_channels),\n",
        "      nn.ReLU()\n",
        "    )\n",
        "    \n",
        "    self.increase_initial_stride = increase_initial_stride\n",
        "    self.in_ch = in_channels\n",
        "    self.out_ch = out_channels\n",
        "    self.batch = nn.BatchNorm2d(out_channels)\n",
        "    self.rel = nn.ReLU()\n",
        "    self.flat = nn.Flatten()\n",
        "\n",
        "    \n",
        "    self.conv_aux = nn.Conv2d(\n",
        "      in_channels=in_channels,\n",
        "      out_channels=out_channels,\n",
        "      kernel_size=1,\n",
        "      stride=2 if increase_initial_stride else 1,\n",
        "    ) \n",
        "\n",
        "  def forward(self, x):\n",
        "    # Applying conv1 activation and conv2\n",
        "    partial_res = self.seq_1(x)\n",
        "    \n",
        "    # Using additional 1x1 conv layer to be able to add the residual\n",
        "    # In the specific needed cases\n",
        "    if self.in_ch != self.out_ch or self.increase_initial_stride:\n",
        "      x = self.conv_aux(x)\n",
        "\n",
        "    # Applying residual connection and activation 2\n",
        "    partial_res = self.rel(self.batch(partial_res + x)) \n",
        "    return partial_res\n",
        "\n",
        "class ResidualBottleNeckBlock(nn.Module):\n",
        "  def __init__(self, in_channels, k, kernel_size, increase_initial_stride=False):\n",
        "    super(ResidualBottleNeckBlock, self).__init__()\n",
        "    self.seq_1 = nn.Sequential(\n",
        "      nn.Conv2d(\n",
        "        in_channels=in_channels,\n",
        "        out_channels=k,\n",
        "        kernel_size=1,\n",
        "        stride=2 if increase_initial_stride else 1\n",
        "      ),\n",
        "      nn.BatchNorm2d(k),\n",
        "      nn.ReLU(),\n",
        "      nn.Conv2d(\n",
        "        in_channels=k,\n",
        "        out_channels=k,\n",
        "        kernel_size=kernel_size,\n",
        "        stride=1,\n",
        "        padding=math.ceil(float((kernel_size-1)) / 2.0)\n",
        "      ),\n",
        "      nn.BatchNorm2d(k),\n",
        "      nn.ReLU(),\n",
        "      nn.Conv2d(\n",
        "        in_channels=k,\n",
        "        out_channels=4 * k,\n",
        "        kernel_size=kernel_size,\n",
        "        stride=1,\n",
        "        padding=math.ceil(float((kernel_size-1)) / 2.0)\n",
        "      ),\n",
        "      nn.BatchNorm2d(4 * k),\n",
        "      nn.ReLU()\n",
        "    )\n",
        "    \n",
        "    self.increase_initial_stride = increase_initial_stride\n",
        "    self.in_ch = in_channels\n",
        "    self.out_ch = 4 * k\n",
        "    self.rel = nn.ReLU()\n",
        "    self.batch = nn.BatchNorm2d(4 * k)\n",
        "    self.flat = nn.Flatten()\n",
        "\n",
        "   \n",
        "    self.conv_aux = nn.Conv2d(\n",
        "      in_channels=in_channels,\n",
        "      out_channels=4 * k,\n",
        "      kernel_size=1,\n",
        "      stride=2 if increase_initial_stride else 1\n",
        "    )\n",
        "  \n",
        "\n",
        "  def forward(self, x):\n",
        "\n",
        "    partial_res = self.seq_1(x)\n",
        "    \n",
        "    # Using additional 1x1 conv layer to be able to add the residual\n",
        "    # In the specific needed cases\n",
        "    if self.in_ch != self.out_ch or self.increase_initial_stride:\n",
        "      x = self.conv_aux(x)\n",
        "    \n",
        "    # Applying residual connection and activation 2\n",
        "    partial_res = self.rel(self.batch(partial_res + x))\n",
        "    \n",
        "    return partial_res"
      ],
      "execution_count": null,
      "outputs": []
    },
    {
      "cell_type": "code",
      "metadata": {
        "id": "DsYaIjGroPCb"
      },
      "source": [
        "class ResNet34(nn.Module):\r\n",
        "  def __init__(self, n_classes):\r\n",
        "    super(ResNet34, self).__init__()\r\n",
        "    self.first_block = nn.Sequential(\r\n",
        "      nn.Conv2d(in_channels=3,out_channels=64,kernel_size=7,padding=3),\r\n",
        "      nn.BatchNorm2d(64),\r\n",
        "      nn.ReLU(),\r\n",
        "      nn.MaxPool2d(kernel_size=3,stride=1,padding=1),\r\n",
        "      nn.ReLU(),\r\n",
        "      \r\n",
        "      # RGroup 1\r\n",
        "      ResidualBlock(64,64,3),\r\n",
        "      ResidualBlock(64,64,3),\r\n",
        "      ResidualBlock(64,64,3),\r\n",
        "\r\n",
        "      # RGroup 2\r\n",
        "      ResidualBlock(64,128,3,increase_initial_stride=True),\r\n",
        "      ResidualBlock(128,128,3),\r\n",
        "      ResidualBlock(128,128,3),\r\n",
        "      ResidualBlock(128,128,3),\r\n",
        "\r\n",
        "      # RGroup 3\r\n",
        "      ResidualBlock(128,256,3,increase_initial_stride=True),\r\n",
        "      ResidualBlock(256,256,3),\r\n",
        "      ResidualBlock(256,256,3),\r\n",
        "      ResidualBlock(256,256,3),\r\n",
        "      ResidualBlock(256,256,3),\r\n",
        "      ResidualBlock(256,256,3),\r\n",
        "\r\n",
        "      # RGroup 4\r\n",
        "      ResidualBlock(256,512,3,increase_initial_stride=True),\r\n",
        "      ResidualBlock(512,512,3),\r\n",
        "      ResidualBlock(512,512,3)\r\n",
        "    )\r\n",
        "\r\n",
        "    self.second_block = nn.Sequential(\r\n",
        "      nn.AvgPool2d(kernel_size=4,stride=1),\r\n",
        "      nn.ReLU(),\r\n",
        "      nn.Flatten()\r\n",
        "    )\r\n",
        "\r\n",
        "    self.output_block =  nn.Linear(512,n_classes)\r\n",
        "\r\n",
        "  def forward(self, x):\r\n",
        "    hidden = self.second_block(self.first_block(x))\r\n",
        "    return {'hidden': hidden, 'logits': self.output_block(hidden)}\r\n",
        "\r\n",
        "\r\n",
        "class ResNet50(nn.Module):\r\n",
        "  def __init__(self, n_classes):\r\n",
        "    super(ResNet50, self).__init__()\r\n",
        "    self.first_block = nn.Sequential(\r\n",
        "      nn.Conv2d(in_channels=3,out_channels=64,kernel_size=7,padding=3),\r\n",
        "      nn.BatchNorm2d(64),\r\n",
        "      nn.ReLU(),\r\n",
        "      nn.MaxPool2d(kernel_size=3,stride=1,padding=1),\r\n",
        "      nn.ReLU(),\r\n",
        "      \r\n",
        "      # RGroup 1\r\n",
        "      ResidualBottleNeckBlock(64,64,3),\r\n",
        "      ResidualBottleNeckBlock(256,64,3),\r\n",
        "      ResidualBottleNeckBlock(256,64,3),\r\n",
        "\r\n",
        "      # RGroup 2\r\n",
        "      ResidualBottleNeckBlock(256,128,3,increase_initial_stride=True),\r\n",
        "      ResidualBottleNeckBlock(512,128,3),\r\n",
        "      ResidualBottleNeckBlock(512,128,3),\r\n",
        "      ResidualBottleNeckBlock(512,128,3),\r\n",
        "\r\n",
        "      # RGroup 3\r\n",
        "      ResidualBottleNeckBlock(512,256,3,increase_initial_stride=True),\r\n",
        "      ResidualBottleNeckBlock(1024,256,3),\r\n",
        "      ResidualBottleNeckBlock(1024,256,3),\r\n",
        "      ResidualBottleNeckBlock(1024,256,3),\r\n",
        "      ResidualBottleNeckBlock(1024,256,3),\r\n",
        "      ResidualBottleNeckBlock(1024,256,3),\r\n",
        "\r\n",
        "      # RGroup 4\r\n",
        "      ResidualBottleNeckBlock(1024,512,3,increase_initial_stride=True),\r\n",
        "      ResidualBottleNeckBlock(2048,512,3),\r\n",
        "      ResidualBottleNeckBlock(2048,512,3)\r\n",
        "    )\r\n",
        "\r\n",
        "    self.second_block = nn.Sequential(\r\n",
        "      nn.AvgPool2d(kernel_size=4,stride=1),\r\n",
        "      nn.ReLU(),\r\n",
        "      nn.Flatten()\r\n",
        "    )\r\n",
        "    self.output_block = nn.Linear(2048,n_classes)\r\n",
        "\r\n",
        "  def forward(self, x):\r\n",
        "    hidden = self.second_block(self.first_block(x))\r\n",
        "    return {'hidden': hidden, 'logits': self.output_block(hidden)}"
      ],
      "execution_count": null,
      "outputs": []
    },
    {
      "cell_type": "markdown",
      "metadata": {
        "id": "tE6uDwmJ94-W"
      },
      "source": [
        "## Testing our models with CIFAR10"
      ]
    },
    {
      "cell_type": "code",
      "metadata": {
        "id": "1InBxxn28TJ4",
        "colab": {
          "base_uri": "https://localhost:8080/"
        },
        "outputId": "aff7f458-863b-47a9-d7be-3970cd8989ef"
      },
      "source": [
        "transform = transforms.Compose(\n",
        "    [transforms.ToTensor(),\n",
        "     transforms.Normalize((0.5, 0.5, 0.5), (0.5, 0.5, 0.5))])\n",
        "\n",
        "trainset = torchvision.datasets.CIFAR10(root='./data', train=True,\n",
        "                                        download=True, transform=transform)\n",
        "trainloader = torch.utils.data.DataLoader(trainset, batch_size=4,\n",
        "                                          shuffle=True, num_workers=2)\n",
        "\n",
        "testset = torchvision.datasets.CIFAR10(root='./data', train=False,\n",
        "                                       download=True, transform=transform)\n",
        "testloader = torch.utils.data.DataLoader(testset, batch_size=4,\n",
        "                                         shuffle=False, num_workers=2)\n",
        "\n",
        "classes = ('plane', 'car', 'bird', 'cat',\n",
        "           'deer', 'dog', 'frog', 'horse', 'ship', 'truck')"
      ],
      "execution_count": null,
      "outputs": [
        {
          "output_type": "stream",
          "text": [
            "Files already downloaded and verified\n",
            "Files already downloaded and verified\n"
          ],
          "name": "stdout"
        }
      ]
    },
    {
      "cell_type": "markdown",
      "metadata": {
        "id": "Uwesn4JOpNet"
      },
      "source": [
        "### Testing with GoogleNet"
      ]
    },
    {
      "cell_type": "code",
      "metadata": {
        "colab": {
          "base_uri": "https://localhost:8080/"
        },
        "id": "ecHwyZa6oxMc",
        "outputId": "1fcc5238-a0f8-48f1-a07d-c2b05c42e78f"
      },
      "source": [
        "BATCH_SIZE = 50\n",
        "LR = 1e-3\n",
        "EPOCHS = 20\n",
        "REPORTS_EVERY = 1\n",
        "\n",
        "net = GoogLeNet(n_classes=10, use_aux_logits=True)\n",
        "optimizer = optim.AdamW(net.parameters(),lr=LR)\n",
        "criterion = nn.CrossEntropyLoss()\n",
        "scheduler = torch.optim.lr_scheduler.StepLR(\n",
        "  optimizer=optimizer,step_size=1,gamma=0.85,verbose=True\n",
        ")\n",
        "\n",
        "train_loader = DataLoader(\n",
        "  trainset, batch_size=BATCH_SIZE, shuffle=True, num_workers=2\n",
        ")\n",
        "test_loader = DataLoader(\n",
        "  testset, batch_size=BATCH_SIZE, shuffle=False, num_workers=2\n",
        ")\n",
        "\n",
        "google_train_loss, google_acc = train_for_classification(\n",
        "  net, train_loader, \n",
        "  test_loader,optimizer, \n",
        "  criterion, lr_scheduler=scheduler, \n",
        "  epochs=EPOCHS, reports_every=REPORTS_EVERY\n",
        ")\n",
        "\n",
        "google_train_loss = {\n",
        "  \"x\": [x+1 for x in range(20)],\n",
        "  \"y\": google_train_loss,\n",
        "  \"name\": \"GoogleNet Training Loss\"\n",
        "}\n",
        "\n",
        "google_train_acc = {\n",
        "  \"x\": [x+1 for x in range(20)],\n",
        "  \"y\": google_acc[0],\n",
        "  \"name\": \"GoogleNet Training Acc\"\n",
        "}\n",
        "\n",
        "google_val_acc = {\n",
        "  \"x\": [x+1 for x in range(20)],\n",
        "  \"y\": google_acc[1],\n",
        "  \"name\": \"GoogleNet Validation Acc\"\n",
        "}\n",
        "\n",
        "\n"
      ],
      "execution_count": null,
      "outputs": [
        {
          "output_type": "stream",
          "text": [
            "Adjusting learning rate of group 0 to 1.0000e-03.\n",
            "Epoch:1(50000/50000), lr:0.0010000, Loss:1.88960, Train Acc:25.1%, Validating..., Val Acc:37.37%, Avg-Time:172.791s.\n",
            "Adjusting learning rate of group 0 to 8.5000e-04.\n",
            "Epoch:2(50000/50000), lr:0.0008500, Loss:1.50800, Train Acc:43.0%, Validating..., Val Acc:48.59%, Avg-Time:172.528s.\n",
            "Adjusting learning rate of group 0 to 7.2250e-04.\n",
            "Epoch:3(50000/50000), lr:0.0007225, Loss:1.29346, Train Acc:51.7%, Validating..., Val Acc:54.77%, Avg-Time:172.535s.\n",
            "Adjusting learning rate of group 0 to 6.1412e-04.\n",
            "Epoch:4(50000/50000), lr:0.0006141, Loss:1.16004, Train Acc:57.1%, Validating..., Val Acc:58.68%, Avg-Time:172.536s.\n",
            "Adjusting learning rate of group 0 to 5.2201e-04.\n",
            "Epoch:5(50000/50000), lr:0.0005220, Loss:1.05038, Train Acc:61.6%, Validating..., Val Acc:61.00%, Avg-Time:172.621s.\n",
            "Adjusting learning rate of group 0 to 4.4371e-04.\n",
            "Epoch:6(50000/50000), lr:0.0004437, Loss:0.96930, Train Acc:64.8%, Validating..., Val Acc:62.64%, Avg-Time:172.660s.\n",
            "Adjusting learning rate of group 0 to 3.7715e-04.\n",
            "Epoch:7(50000/50000), lr:0.0003771, Loss:0.88907, Train Acc:67.7%, Validating..., Val Acc:66.56%, Avg-Time:172.731s.\n",
            "Adjusting learning rate of group 0 to 3.2058e-04.\n",
            "Epoch:8(50000/50000), lr:0.0003206, Loss:0.81929, Train Acc:70.5%, Validating..., Val Acc:68.54%, Avg-Time:172.823s.\n",
            "Adjusting learning rate of group 0 to 2.7249e-04.\n",
            "Epoch:9(50000/50000), lr:0.0002725, Loss:0.75801, Train Acc:72.7%, Validating..., Val Acc:69.65%, Avg-Time:172.856s.\n",
            "Adjusting learning rate of group 0 to 2.3162e-04.\n",
            "Epoch:10(50000/50000), lr:0.0002316, Loss:0.70553, Train Acc:74.8%, Validating..., Val Acc:69.90%, Avg-Time:172.926s.\n",
            "Adjusting learning rate of group 0 to 1.9687e-04.\n",
            "Epoch:11(50000/50000), lr:0.0001969, Loss:0.65771, Train Acc:76.8%, Validating..., Val Acc:71.08%, Avg-Time:172.991s.\n",
            "Adjusting learning rate of group 0 to 1.6734e-04.\n",
            "Epoch:12(50000/50000), lr:0.0001673, Loss:0.61733, Train Acc:78.4%, Validating..., Val Acc:71.59%, Avg-Time:173.054s.\n",
            "Adjusting learning rate of group 0 to 1.4224e-04.\n",
            "Epoch:13(50000/50000), lr:0.0001422, Loss:0.57797, Train Acc:80.0%, Validating..., Val Acc:71.56%, Avg-Time:173.108s.\n",
            "Adjusting learning rate of group 0 to 1.2091e-04.\n",
            "Epoch:14(50000/50000), lr:0.0001209, Loss:0.54347, Train Acc:81.4%, Validating..., Val Acc:72.78%, Avg-Time:173.172s.\n",
            "Adjusting learning rate of group 0 to 1.0277e-04.\n",
            "Epoch:15(50000/50000), lr:0.0001028, Loss:0.51128, Train Acc:82.7%, Validating..., Val Acc:72.37%, Avg-Time:173.242s.\n",
            "Adjusting learning rate of group 0 to 8.7354e-05.\n",
            "Epoch:16(50000/50000), lr:0.0000874, Loss:0.48470, Train Acc:83.8%, Validating..., Val Acc:73.11%, Avg-Time:173.301s.\n",
            "Adjusting learning rate of group 0 to 7.4251e-05.\n",
            "Epoch:17(50000/50000), lr:0.0000743, Loss:0.45997, Train Acc:84.8%, Validating..., Val Acc:73.07%, Avg-Time:173.353s.\n",
            "Adjusting learning rate of group 0 to 6.3113e-05.\n",
            "Epoch:18(50000/50000), lr:0.0000631, Loss:0.43970, Train Acc:85.7%, Validating..., Val Acc:73.22%, Avg-Time:173.400s.\n",
            "Adjusting learning rate of group 0 to 5.3646e-05.\n",
            "Epoch:19(50000/50000), lr:0.0000536, Loss:0.42026, Train Acc:86.6%, Validating..., Val Acc:73.19%, Avg-Time:173.438s.\n",
            "Adjusting learning rate of group 0 to 4.5599e-05.\n",
            "Epoch:20(50000/50000), lr:0.0000456, Loss:0.40289, Train Acc:87.2%, Validating..., Val Acc:72.97%, Avg-Time:173.480s.\n",
            "Adjusting learning rate of group 0 to 3.8760e-05.\n"
          ],
          "name": "stdout"
        }
      ]
    },
    {
      "cell_type": "code",
      "metadata": {
        "colab": {
          "base_uri": "https://localhost:8080/",
          "height": 951
        },
        "id": "JPhnevjzGb72",
        "outputId": "9da874d9-ee3a-4ee7-fae0-f9b73005a28d"
      },
      "source": [
        "plot_results([google_train_loss], [google_train_acc, google_val_acc])"
      ],
      "execution_count": null,
      "outputs": [
        {
          "output_type": "display_data",
          "data": {
            "text/html": [
              "<html>\n",
              "<head><meta charset=\"utf-8\" /></head>\n",
              "<body>\n",
              "    <div>\n",
              "            <script src=\"https://cdnjs.cloudflare.com/ajax/libs/mathjax/2.7.5/MathJax.js?config=TeX-AMS-MML_SVG\"></script><script type=\"text/javascript\">if (window.MathJax) {MathJax.Hub.Config({SVG: {font: \"STIX-Web\"}});}</script>\n",
              "                <script type=\"text/javascript\">window.PlotlyConfig = {MathJaxConfig: 'local'};</script>\n",
              "        <script src=\"https://cdn.plot.ly/plotly-latest.min.js\"></script>    \n",
              "            <div id=\"1a649dd8-b260-40b8-a10d-3057ec70b88d\" class=\"plotly-graph-div\" style=\"height:450px; width:700px;\"></div>\n",
              "            <script type=\"text/javascript\">\n",
              "                \n",
              "                    window.PLOTLYENV=window.PLOTLYENV || {};\n",
              "                    \n",
              "                if (document.getElementById(\"1a649dd8-b260-40b8-a10d-3057ec70b88d\")) {\n",
              "                    Plotly.newPlot(\n",
              "                        '1a649dd8-b260-40b8-a10d-3057ec70b88d',\n",
              "                        [{\"mode\": \"lines+markers\", \"name\": \"GoogleNet Training Loss\", \"textposition\": \"bottom center\", \"type\": \"scatter\", \"x\": [1, 2, 3, 4, 5, 6, 7, 8, 9, 10, 11, 12, 13, 14, 15, 16, 17, 18, 19, 20], \"y\": [1.8895989952087402, 1.508003319501877, 1.2934605672955513, 1.160040518283844, 1.050375393331051, 0.9692958558797836, 0.8890712934136391, 0.8192909661531448, 0.758014788210392, 0.7055331818163395, 0.6577108901143074, 0.6173252028524876, 0.5779706246256828, 0.5434703610688448, 0.5112764296978712, 0.48470469562709334, 0.4599704577624798, 0.43970090374350546, 0.42026470889151096, 0.40288626760244367]}],\n",
              "                        {\"autosize\": false, \"font\": {\"color\": \"#7f7f7f\", \"family\": \"Courier New, monospace\", \"size\": 14}, \"height\": 450, \"template\": {\"data\": {\"bar\": [{\"error_x\": {\"color\": \"#2a3f5f\"}, \"error_y\": {\"color\": \"#2a3f5f\"}, \"marker\": {\"line\": {\"color\": \"#E5ECF6\", \"width\": 0.5}}, \"type\": \"bar\"}], \"barpolar\": [{\"marker\": {\"line\": {\"color\": \"#E5ECF6\", \"width\": 0.5}}, \"type\": \"barpolar\"}], \"carpet\": [{\"aaxis\": {\"endlinecolor\": \"#2a3f5f\", \"gridcolor\": \"white\", \"linecolor\": \"white\", \"minorgridcolor\": \"white\", \"startlinecolor\": \"#2a3f5f\"}, \"baxis\": {\"endlinecolor\": \"#2a3f5f\", \"gridcolor\": \"white\", \"linecolor\": \"white\", \"minorgridcolor\": \"white\", \"startlinecolor\": \"#2a3f5f\"}, \"type\": \"carpet\"}], \"choropleth\": [{\"colorbar\": {\"outlinewidth\": 0, \"ticks\": \"\"}, \"type\": \"choropleth\"}], \"contour\": [{\"colorbar\": {\"outlinewidth\": 0, \"ticks\": \"\"}, \"colorscale\": [[0.0, \"#0d0887\"], [0.1111111111111111, \"#46039f\"], [0.2222222222222222, \"#7201a8\"], [0.3333333333333333, \"#9c179e\"], [0.4444444444444444, \"#bd3786\"], [0.5555555555555556, \"#d8576b\"], [0.6666666666666666, \"#ed7953\"], [0.7777777777777778, \"#fb9f3a\"], [0.8888888888888888, \"#fdca26\"], [1.0, \"#f0f921\"]], \"type\": \"contour\"}], \"contourcarpet\": [{\"colorbar\": {\"outlinewidth\": 0, \"ticks\": \"\"}, \"type\": \"contourcarpet\"}], \"heatmap\": [{\"colorbar\": {\"outlinewidth\": 0, \"ticks\": \"\"}, \"colorscale\": [[0.0, \"#0d0887\"], [0.1111111111111111, \"#46039f\"], [0.2222222222222222, \"#7201a8\"], [0.3333333333333333, \"#9c179e\"], [0.4444444444444444, \"#bd3786\"], [0.5555555555555556, \"#d8576b\"], [0.6666666666666666, \"#ed7953\"], [0.7777777777777778, \"#fb9f3a\"], [0.8888888888888888, \"#fdca26\"], [1.0, \"#f0f921\"]], \"type\": \"heatmap\"}], \"heatmapgl\": [{\"colorbar\": {\"outlinewidth\": 0, \"ticks\": \"\"}, \"colorscale\": [[0.0, \"#0d0887\"], [0.1111111111111111, \"#46039f\"], [0.2222222222222222, \"#7201a8\"], [0.3333333333333333, \"#9c179e\"], [0.4444444444444444, \"#bd3786\"], [0.5555555555555556, \"#d8576b\"], [0.6666666666666666, \"#ed7953\"], [0.7777777777777778, \"#fb9f3a\"], [0.8888888888888888, \"#fdca26\"], [1.0, \"#f0f921\"]], \"type\": \"heatmapgl\"}], \"histogram\": [{\"marker\": {\"colorbar\": {\"outlinewidth\": 0, \"ticks\": \"\"}}, \"type\": \"histogram\"}], \"histogram2d\": [{\"colorbar\": {\"outlinewidth\": 0, \"ticks\": \"\"}, \"colorscale\": [[0.0, \"#0d0887\"], [0.1111111111111111, \"#46039f\"], [0.2222222222222222, \"#7201a8\"], [0.3333333333333333, \"#9c179e\"], [0.4444444444444444, \"#bd3786\"], [0.5555555555555556, \"#d8576b\"], [0.6666666666666666, \"#ed7953\"], [0.7777777777777778, \"#fb9f3a\"], [0.8888888888888888, \"#fdca26\"], [1.0, \"#f0f921\"]], \"type\": \"histogram2d\"}], \"histogram2dcontour\": [{\"colorbar\": {\"outlinewidth\": 0, \"ticks\": \"\"}, \"colorscale\": [[0.0, \"#0d0887\"], [0.1111111111111111, \"#46039f\"], [0.2222222222222222, \"#7201a8\"], [0.3333333333333333, \"#9c179e\"], [0.4444444444444444, \"#bd3786\"], [0.5555555555555556, \"#d8576b\"], [0.6666666666666666, \"#ed7953\"], [0.7777777777777778, \"#fb9f3a\"], [0.8888888888888888, \"#fdca26\"], [1.0, \"#f0f921\"]], \"type\": \"histogram2dcontour\"}], \"mesh3d\": [{\"colorbar\": {\"outlinewidth\": 0, \"ticks\": \"\"}, \"type\": \"mesh3d\"}], \"parcoords\": [{\"line\": {\"colorbar\": {\"outlinewidth\": 0, \"ticks\": \"\"}}, \"type\": \"parcoords\"}], \"pie\": [{\"automargin\": true, \"type\": \"pie\"}], \"scatter\": [{\"marker\": {\"colorbar\": {\"outlinewidth\": 0, \"ticks\": \"\"}}, \"type\": \"scatter\"}], \"scatter3d\": [{\"line\": {\"colorbar\": {\"outlinewidth\": 0, \"ticks\": \"\"}}, \"marker\": {\"colorbar\": {\"outlinewidth\": 0, \"ticks\": \"\"}}, \"type\": \"scatter3d\"}], \"scattercarpet\": [{\"marker\": {\"colorbar\": {\"outlinewidth\": 0, \"ticks\": \"\"}}, \"type\": \"scattercarpet\"}], \"scattergeo\": [{\"marker\": {\"colorbar\": {\"outlinewidth\": 0, \"ticks\": \"\"}}, \"type\": \"scattergeo\"}], \"scattergl\": [{\"marker\": {\"colorbar\": {\"outlinewidth\": 0, \"ticks\": \"\"}}, \"type\": \"scattergl\"}], \"scattermapbox\": [{\"marker\": {\"colorbar\": {\"outlinewidth\": 0, \"ticks\": \"\"}}, \"type\": \"scattermapbox\"}], \"scatterpolar\": [{\"marker\": {\"colorbar\": {\"outlinewidth\": 0, \"ticks\": \"\"}}, \"type\": \"scatterpolar\"}], \"scatterpolargl\": [{\"marker\": {\"colorbar\": {\"outlinewidth\": 0, \"ticks\": \"\"}}, \"type\": \"scatterpolargl\"}], \"scatterternary\": [{\"marker\": {\"colorbar\": {\"outlinewidth\": 0, \"ticks\": \"\"}}, \"type\": \"scatterternary\"}], \"surface\": [{\"colorbar\": {\"outlinewidth\": 0, \"ticks\": \"\"}, \"colorscale\": [[0.0, \"#0d0887\"], [0.1111111111111111, \"#46039f\"], [0.2222222222222222, \"#7201a8\"], [0.3333333333333333, \"#9c179e\"], [0.4444444444444444, \"#bd3786\"], [0.5555555555555556, \"#d8576b\"], [0.6666666666666666, \"#ed7953\"], [0.7777777777777778, \"#fb9f3a\"], [0.8888888888888888, \"#fdca26\"], [1.0, \"#f0f921\"]], \"type\": \"surface\"}], \"table\": [{\"cells\": {\"fill\": {\"color\": \"#EBF0F8\"}, \"line\": {\"color\": \"white\"}}, \"header\": {\"fill\": {\"color\": \"#C8D4E3\"}, \"line\": {\"color\": \"white\"}}, \"type\": \"table\"}]}, \"layout\": {\"annotationdefaults\": {\"arrowcolor\": \"#2a3f5f\", \"arrowhead\": 0, \"arrowwidth\": 1}, \"coloraxis\": {\"colorbar\": {\"outlinewidth\": 0, \"ticks\": \"\"}}, \"colorscale\": {\"diverging\": [[0, \"#8e0152\"], [0.1, \"#c51b7d\"], [0.2, \"#de77ae\"], [0.3, \"#f1b6da\"], [0.4, \"#fde0ef\"], [0.5, \"#f7f7f7\"], [0.6, \"#e6f5d0\"], [0.7, \"#b8e186\"], [0.8, \"#7fbc41\"], [0.9, \"#4d9221\"], [1, \"#276419\"]], \"sequential\": [[0.0, \"#0d0887\"], [0.1111111111111111, \"#46039f\"], [0.2222222222222222, \"#7201a8\"], [0.3333333333333333, \"#9c179e\"], [0.4444444444444444, \"#bd3786\"], [0.5555555555555556, \"#d8576b\"], [0.6666666666666666, \"#ed7953\"], [0.7777777777777778, \"#fb9f3a\"], [0.8888888888888888, \"#fdca26\"], [1.0, \"#f0f921\"]], \"sequentialminus\": [[0.0, \"#0d0887\"], [0.1111111111111111, \"#46039f\"], [0.2222222222222222, \"#7201a8\"], [0.3333333333333333, \"#9c179e\"], [0.4444444444444444, \"#bd3786\"], [0.5555555555555556, \"#d8576b\"], [0.6666666666666666, \"#ed7953\"], [0.7777777777777778, \"#fb9f3a\"], [0.8888888888888888, \"#fdca26\"], [1.0, \"#f0f921\"]]}, \"colorway\": [\"#636efa\", \"#EF553B\", \"#00cc96\", \"#ab63fa\", \"#FFA15A\", \"#19d3f3\", \"#FF6692\", \"#B6E880\", \"#FF97FF\", \"#FECB52\"], \"font\": {\"color\": \"#2a3f5f\"}, \"geo\": {\"bgcolor\": \"white\", \"lakecolor\": \"white\", \"landcolor\": \"#E5ECF6\", \"showlakes\": true, \"showland\": true, \"subunitcolor\": \"white\"}, \"hoverlabel\": {\"align\": \"left\"}, \"hovermode\": \"closest\", \"mapbox\": {\"style\": \"light\"}, \"paper_bgcolor\": \"white\", \"plot_bgcolor\": \"#E5ECF6\", \"polar\": {\"angularaxis\": {\"gridcolor\": \"white\", \"linecolor\": \"white\", \"ticks\": \"\"}, \"bgcolor\": \"#E5ECF6\", \"radialaxis\": {\"gridcolor\": \"white\", \"linecolor\": \"white\", \"ticks\": \"\"}}, \"scene\": {\"xaxis\": {\"backgroundcolor\": \"#E5ECF6\", \"gridcolor\": \"white\", \"gridwidth\": 2, \"linecolor\": \"white\", \"showbackground\": true, \"ticks\": \"\", \"zerolinecolor\": \"white\"}, \"yaxis\": {\"backgroundcolor\": \"#E5ECF6\", \"gridcolor\": \"white\", \"gridwidth\": 2, \"linecolor\": \"white\", \"showbackground\": true, \"ticks\": \"\", \"zerolinecolor\": \"white\"}, \"zaxis\": {\"backgroundcolor\": \"#E5ECF6\", \"gridcolor\": \"white\", \"gridwidth\": 2, \"linecolor\": \"white\", \"showbackground\": true, \"ticks\": \"\", \"zerolinecolor\": \"white\"}}, \"shapedefaults\": {\"line\": {\"color\": \"#2a3f5f\"}}, \"ternary\": {\"aaxis\": {\"gridcolor\": \"white\", \"linecolor\": \"white\", \"ticks\": \"\"}, \"baxis\": {\"gridcolor\": \"white\", \"linecolor\": \"white\", \"ticks\": \"\"}, \"bgcolor\": \"#E5ECF6\", \"caxis\": {\"gridcolor\": \"white\", \"linecolor\": \"white\", \"ticks\": \"\"}}, \"title\": {\"x\": 0.05}, \"xaxis\": {\"automargin\": true, \"gridcolor\": \"white\", \"linecolor\": \"white\", \"ticks\": \"\", \"title\": {\"standoff\": 15}, \"zerolinecolor\": \"white\", \"zerolinewidth\": 2}, \"yaxis\": {\"automargin\": true, \"gridcolor\": \"white\", \"linecolor\": \"white\", \"ticks\": \"\", \"title\": {\"standoff\": 15}, \"zerolinecolor\": \"white\", \"zerolinewidth\": 2}}}, \"title\": {\"text\": \"Loss Chart\"}, \"width\": 700, \"xaxis\": {\"title\": {\"text\": \"Epochs\"}}, \"yaxis\": {\"title\": {\"text\": \"Loss\"}}},\n",
              "                        {\"responsive\": true}\n",
              "                    ).then(function(){\n",
              "                            \n",
              "var gd = document.getElementById('1a649dd8-b260-40b8-a10d-3057ec70b88d');\n",
              "var x = new MutationObserver(function (mutations, observer) {{\n",
              "        var display = window.getComputedStyle(gd).display;\n",
              "        if (!display || display === 'none') {{\n",
              "            console.log([gd, 'removed!']);\n",
              "            Plotly.purge(gd);\n",
              "            observer.disconnect();\n",
              "        }}\n",
              "}});\n",
              "\n",
              "// Listen for the removal of the full notebook cells\n",
              "var notebookContainer = gd.closest('#notebook-container');\n",
              "if (notebookContainer) {{\n",
              "    x.observe(notebookContainer, {childList: true});\n",
              "}}\n",
              "\n",
              "// Listen for the clearing of the current output cell\n",
              "var outputEl = gd.closest('.output');\n",
              "if (outputEl) {{\n",
              "    x.observe(outputEl, {childList: true});\n",
              "}}\n",
              "\n",
              "                        })\n",
              "                };\n",
              "                \n",
              "            </script>\n",
              "        </div>\n",
              "</body>\n",
              "</html>"
            ]
          },
          "metadata": {
            "tags": []
          }
        },
        {
          "output_type": "stream",
          "text": [
            "\n",
            "\n"
          ],
          "name": "stdout"
        },
        {
          "output_type": "display_data",
          "data": {
            "text/html": [
              "<html>\n",
              "<head><meta charset=\"utf-8\" /></head>\n",
              "<body>\n",
              "    <div>\n",
              "            <script src=\"https://cdnjs.cloudflare.com/ajax/libs/mathjax/2.7.5/MathJax.js?config=TeX-AMS-MML_SVG\"></script><script type=\"text/javascript\">if (window.MathJax) {MathJax.Hub.Config({SVG: {font: \"STIX-Web\"}});}</script>\n",
              "                <script type=\"text/javascript\">window.PlotlyConfig = {MathJaxConfig: 'local'};</script>\n",
              "        <script src=\"https://cdn.plot.ly/plotly-latest.min.js\"></script>    \n",
              "            <div id=\"458de574-de57-4bfb-88a7-a11ac6bc5751\" class=\"plotly-graph-div\" style=\"height:450px; width:700px;\"></div>\n",
              "            <script type=\"text/javascript\">\n",
              "                \n",
              "                    window.PLOTLYENV=window.PLOTLYENV || {};\n",
              "                    \n",
              "                if (document.getElementById(\"458de574-de57-4bfb-88a7-a11ac6bc5751\")) {\n",
              "                    Plotly.newPlot(\n",
              "                        '458de574-de57-4bfb-88a7-a11ac6bc5751',\n",
              "                        [{\"mode\": \"lines+markers\", \"name\": \"GoogleNet Training Acc\", \"textposition\": \"bottom center\", \"type\": \"scatter\", \"x\": [1, 2, 3, 4, 5, 6, 7, 8, 9, 10, 11, 12, 13, 14, 15, 16, 17, 18, 19, 20], \"y\": [25.06, 42.974000000000004, 51.724000000000004, 57.082, 61.644, 64.77199999999999, 67.694, 70.542, 72.712, 74.776, 76.8, 78.38000000000001, 80.036, 81.404, 82.658, 83.786, 84.82600000000001, 85.698, 86.572, 87.238]}, {\"mode\": \"lines+markers\", \"name\": \"GoogleNet Validation Acc\", \"textposition\": \"bottom center\", \"type\": \"scatter\", \"x\": [1, 2, 3, 4, 5, 6, 7, 8, 9, 10, 11, 12, 13, 14, 15, 16, 17, 18, 19, 20], \"y\": [37.37, 48.59, 54.769999999999996, 58.68, 61.0, 62.63999999999999, 66.56, 68.54, 69.65, 69.89999999999999, 71.08, 71.59, 71.56, 72.78, 72.37, 73.11, 73.07000000000001, 73.22, 73.19, 72.97]}],\n",
              "                        {\"autosize\": false, \"font\": {\"color\": \"#7f7f7f\", \"family\": \"Courier New, monospace\", \"size\": 14}, \"height\": 450, \"template\": {\"data\": {\"bar\": [{\"error_x\": {\"color\": \"#2a3f5f\"}, \"error_y\": {\"color\": \"#2a3f5f\"}, \"marker\": {\"line\": {\"color\": \"#E5ECF6\", \"width\": 0.5}}, \"type\": \"bar\"}], \"barpolar\": [{\"marker\": {\"line\": {\"color\": \"#E5ECF6\", \"width\": 0.5}}, \"type\": \"barpolar\"}], \"carpet\": [{\"aaxis\": {\"endlinecolor\": \"#2a3f5f\", \"gridcolor\": \"white\", \"linecolor\": \"white\", \"minorgridcolor\": \"white\", \"startlinecolor\": \"#2a3f5f\"}, \"baxis\": {\"endlinecolor\": \"#2a3f5f\", \"gridcolor\": \"white\", \"linecolor\": \"white\", \"minorgridcolor\": \"white\", \"startlinecolor\": \"#2a3f5f\"}, \"type\": \"carpet\"}], \"choropleth\": [{\"colorbar\": {\"outlinewidth\": 0, \"ticks\": \"\"}, \"type\": \"choropleth\"}], \"contour\": [{\"colorbar\": {\"outlinewidth\": 0, \"ticks\": \"\"}, \"colorscale\": [[0.0, \"#0d0887\"], [0.1111111111111111, \"#46039f\"], [0.2222222222222222, \"#7201a8\"], [0.3333333333333333, \"#9c179e\"], [0.4444444444444444, \"#bd3786\"], [0.5555555555555556, \"#d8576b\"], [0.6666666666666666, \"#ed7953\"], [0.7777777777777778, \"#fb9f3a\"], [0.8888888888888888, \"#fdca26\"], [1.0, \"#f0f921\"]], \"type\": \"contour\"}], \"contourcarpet\": [{\"colorbar\": {\"outlinewidth\": 0, \"ticks\": \"\"}, \"type\": \"contourcarpet\"}], \"heatmap\": [{\"colorbar\": {\"outlinewidth\": 0, \"ticks\": \"\"}, \"colorscale\": [[0.0, \"#0d0887\"], [0.1111111111111111, \"#46039f\"], [0.2222222222222222, \"#7201a8\"], [0.3333333333333333, \"#9c179e\"], [0.4444444444444444, \"#bd3786\"], [0.5555555555555556, \"#d8576b\"], [0.6666666666666666, \"#ed7953\"], [0.7777777777777778, \"#fb9f3a\"], [0.8888888888888888, \"#fdca26\"], [1.0, \"#f0f921\"]], \"type\": \"heatmap\"}], \"heatmapgl\": [{\"colorbar\": {\"outlinewidth\": 0, \"ticks\": \"\"}, \"colorscale\": [[0.0, \"#0d0887\"], [0.1111111111111111, \"#46039f\"], [0.2222222222222222, \"#7201a8\"], [0.3333333333333333, \"#9c179e\"], [0.4444444444444444, \"#bd3786\"], [0.5555555555555556, \"#d8576b\"], [0.6666666666666666, \"#ed7953\"], [0.7777777777777778, \"#fb9f3a\"], [0.8888888888888888, \"#fdca26\"], [1.0, \"#f0f921\"]], \"type\": \"heatmapgl\"}], \"histogram\": [{\"marker\": {\"colorbar\": {\"outlinewidth\": 0, \"ticks\": \"\"}}, \"type\": \"histogram\"}], \"histogram2d\": [{\"colorbar\": {\"outlinewidth\": 0, \"ticks\": \"\"}, \"colorscale\": [[0.0, \"#0d0887\"], [0.1111111111111111, \"#46039f\"], [0.2222222222222222, \"#7201a8\"], [0.3333333333333333, \"#9c179e\"], [0.4444444444444444, \"#bd3786\"], [0.5555555555555556, \"#d8576b\"], [0.6666666666666666, \"#ed7953\"], [0.7777777777777778, \"#fb9f3a\"], [0.8888888888888888, \"#fdca26\"], [1.0, \"#f0f921\"]], \"type\": \"histogram2d\"}], \"histogram2dcontour\": [{\"colorbar\": {\"outlinewidth\": 0, \"ticks\": \"\"}, \"colorscale\": [[0.0, \"#0d0887\"], [0.1111111111111111, \"#46039f\"], [0.2222222222222222, \"#7201a8\"], [0.3333333333333333, \"#9c179e\"], [0.4444444444444444, \"#bd3786\"], [0.5555555555555556, \"#d8576b\"], [0.6666666666666666, \"#ed7953\"], [0.7777777777777778, \"#fb9f3a\"], [0.8888888888888888, \"#fdca26\"], [1.0, \"#f0f921\"]], \"type\": \"histogram2dcontour\"}], \"mesh3d\": [{\"colorbar\": {\"outlinewidth\": 0, \"ticks\": \"\"}, \"type\": \"mesh3d\"}], \"parcoords\": [{\"line\": {\"colorbar\": {\"outlinewidth\": 0, \"ticks\": \"\"}}, \"type\": \"parcoords\"}], \"pie\": [{\"automargin\": true, \"type\": \"pie\"}], \"scatter\": [{\"marker\": {\"colorbar\": {\"outlinewidth\": 0, \"ticks\": \"\"}}, \"type\": \"scatter\"}], \"scatter3d\": [{\"line\": {\"colorbar\": {\"outlinewidth\": 0, \"ticks\": \"\"}}, \"marker\": {\"colorbar\": {\"outlinewidth\": 0, \"ticks\": \"\"}}, \"type\": \"scatter3d\"}], \"scattercarpet\": [{\"marker\": {\"colorbar\": {\"outlinewidth\": 0, \"ticks\": \"\"}}, \"type\": \"scattercarpet\"}], \"scattergeo\": [{\"marker\": {\"colorbar\": {\"outlinewidth\": 0, \"ticks\": \"\"}}, \"type\": \"scattergeo\"}], \"scattergl\": [{\"marker\": {\"colorbar\": {\"outlinewidth\": 0, \"ticks\": \"\"}}, \"type\": \"scattergl\"}], \"scattermapbox\": [{\"marker\": {\"colorbar\": {\"outlinewidth\": 0, \"ticks\": \"\"}}, \"type\": \"scattermapbox\"}], \"scatterpolar\": [{\"marker\": {\"colorbar\": {\"outlinewidth\": 0, \"ticks\": \"\"}}, \"type\": \"scatterpolar\"}], \"scatterpolargl\": [{\"marker\": {\"colorbar\": {\"outlinewidth\": 0, \"ticks\": \"\"}}, \"type\": \"scatterpolargl\"}], \"scatterternary\": [{\"marker\": {\"colorbar\": {\"outlinewidth\": 0, \"ticks\": \"\"}}, \"type\": \"scatterternary\"}], \"surface\": [{\"colorbar\": {\"outlinewidth\": 0, \"ticks\": \"\"}, \"colorscale\": [[0.0, \"#0d0887\"], [0.1111111111111111, \"#46039f\"], [0.2222222222222222, \"#7201a8\"], [0.3333333333333333, \"#9c179e\"], [0.4444444444444444, \"#bd3786\"], [0.5555555555555556, \"#d8576b\"], [0.6666666666666666, \"#ed7953\"], [0.7777777777777778, \"#fb9f3a\"], [0.8888888888888888, \"#fdca26\"], [1.0, \"#f0f921\"]], \"type\": \"surface\"}], \"table\": [{\"cells\": {\"fill\": {\"color\": \"#EBF0F8\"}, \"line\": {\"color\": \"white\"}}, \"header\": {\"fill\": {\"color\": \"#C8D4E3\"}, \"line\": {\"color\": \"white\"}}, \"type\": \"table\"}]}, \"layout\": {\"annotationdefaults\": {\"arrowcolor\": \"#2a3f5f\", \"arrowhead\": 0, \"arrowwidth\": 1}, \"coloraxis\": {\"colorbar\": {\"outlinewidth\": 0, \"ticks\": \"\"}}, \"colorscale\": {\"diverging\": [[0, \"#8e0152\"], [0.1, \"#c51b7d\"], [0.2, \"#de77ae\"], [0.3, \"#f1b6da\"], [0.4, \"#fde0ef\"], [0.5, \"#f7f7f7\"], [0.6, \"#e6f5d0\"], [0.7, \"#b8e186\"], [0.8, \"#7fbc41\"], [0.9, \"#4d9221\"], [1, \"#276419\"]], \"sequential\": [[0.0, \"#0d0887\"], [0.1111111111111111, \"#46039f\"], [0.2222222222222222, \"#7201a8\"], [0.3333333333333333, \"#9c179e\"], [0.4444444444444444, \"#bd3786\"], [0.5555555555555556, \"#d8576b\"], [0.6666666666666666, \"#ed7953\"], [0.7777777777777778, \"#fb9f3a\"], [0.8888888888888888, \"#fdca26\"], [1.0, \"#f0f921\"]], \"sequentialminus\": [[0.0, \"#0d0887\"], [0.1111111111111111, \"#46039f\"], [0.2222222222222222, \"#7201a8\"], [0.3333333333333333, \"#9c179e\"], [0.4444444444444444, \"#bd3786\"], [0.5555555555555556, \"#d8576b\"], [0.6666666666666666, \"#ed7953\"], [0.7777777777777778, \"#fb9f3a\"], [0.8888888888888888, \"#fdca26\"], [1.0, \"#f0f921\"]]}, \"colorway\": [\"#636efa\", \"#EF553B\", \"#00cc96\", \"#ab63fa\", \"#FFA15A\", \"#19d3f3\", \"#FF6692\", \"#B6E880\", \"#FF97FF\", \"#FECB52\"], \"font\": {\"color\": \"#2a3f5f\"}, \"geo\": {\"bgcolor\": \"white\", \"lakecolor\": \"white\", \"landcolor\": \"#E5ECF6\", \"showlakes\": true, \"showland\": true, \"subunitcolor\": \"white\"}, \"hoverlabel\": {\"align\": \"left\"}, \"hovermode\": \"closest\", \"mapbox\": {\"style\": \"light\"}, \"paper_bgcolor\": \"white\", \"plot_bgcolor\": \"#E5ECF6\", \"polar\": {\"angularaxis\": {\"gridcolor\": \"white\", \"linecolor\": \"white\", \"ticks\": \"\"}, \"bgcolor\": \"#E5ECF6\", \"radialaxis\": {\"gridcolor\": \"white\", \"linecolor\": \"white\", \"ticks\": \"\"}}, \"scene\": {\"xaxis\": {\"backgroundcolor\": \"#E5ECF6\", \"gridcolor\": \"white\", \"gridwidth\": 2, \"linecolor\": \"white\", \"showbackground\": true, \"ticks\": \"\", \"zerolinecolor\": \"white\"}, \"yaxis\": {\"backgroundcolor\": \"#E5ECF6\", \"gridcolor\": \"white\", \"gridwidth\": 2, \"linecolor\": \"white\", \"showbackground\": true, \"ticks\": \"\", \"zerolinecolor\": \"white\"}, \"zaxis\": {\"backgroundcolor\": \"#E5ECF6\", \"gridcolor\": \"white\", \"gridwidth\": 2, \"linecolor\": \"white\", \"showbackground\": true, \"ticks\": \"\", \"zerolinecolor\": \"white\"}}, \"shapedefaults\": {\"line\": {\"color\": \"#2a3f5f\"}}, \"ternary\": {\"aaxis\": {\"gridcolor\": \"white\", \"linecolor\": \"white\", \"ticks\": \"\"}, \"baxis\": {\"gridcolor\": \"white\", \"linecolor\": \"white\", \"ticks\": \"\"}, \"bgcolor\": \"#E5ECF6\", \"caxis\": {\"gridcolor\": \"white\", \"linecolor\": \"white\", \"ticks\": \"\"}}, \"title\": {\"x\": 0.05}, \"xaxis\": {\"automargin\": true, \"gridcolor\": \"white\", \"linecolor\": \"white\", \"ticks\": \"\", \"title\": {\"standoff\": 15}, \"zerolinecolor\": \"white\", \"zerolinewidth\": 2}, \"yaxis\": {\"automargin\": true, \"gridcolor\": \"white\", \"linecolor\": \"white\", \"ticks\": \"\", \"title\": {\"standoff\": 15}, \"zerolinecolor\": \"white\", \"zerolinewidth\": 2}}}, \"title\": {\"text\": \"Metric Chart\"}, \"width\": 700, \"xaxis\": {\"title\": {\"text\": \"Epochs\"}}, \"yaxis\": {\"title\": {\"text\": \"Score\"}}},\n",
              "                        {\"responsive\": true}\n",
              "                    ).then(function(){\n",
              "                            \n",
              "var gd = document.getElementById('458de574-de57-4bfb-88a7-a11ac6bc5751');\n",
              "var x = new MutationObserver(function (mutations, observer) {{\n",
              "        var display = window.getComputedStyle(gd).display;\n",
              "        if (!display || display === 'none') {{\n",
              "            console.log([gd, 'removed!']);\n",
              "            Plotly.purge(gd);\n",
              "            observer.disconnect();\n",
              "        }}\n",
              "}});\n",
              "\n",
              "// Listen for the removal of the full notebook cells\n",
              "var notebookContainer = gd.closest('#notebook-container');\n",
              "if (notebookContainer) {{\n",
              "    x.observe(notebookContainer, {childList: true});\n",
              "}}\n",
              "\n",
              "// Listen for the clearing of the current output cell\n",
              "var outputEl = gd.closest('.output');\n",
              "if (outputEl) {{\n",
              "    x.observe(outputEl, {childList: true});\n",
              "}}\n",
              "\n",
              "                        })\n",
              "                };\n",
              "                \n",
              "            </script>\n",
              "        </div>\n",
              "</body>\n",
              "</html>"
            ]
          },
          "metadata": {
            "tags": []
          }
        }
      ]
    },
    {
      "cell_type": "code",
      "metadata": {
        "colab": {
          "base_uri": "https://localhost:8080/"
        },
        "id": "QoEdEQnedJMY",
        "outputId": "6bd4915f-84fb-4e2c-e9b2-d0b9b97b09c8"
      },
      "source": [
        "# Running automatic tests\n",
        "x, y = list(test_loader)[0]\n",
        "net.cpu()\n",
        "net.eval()\n",
        "y_pred = net(x)['logits'].max(dim=1)[1]\n",
        "print(\"Correct Test!\" if (y==y_pred).sum()/len(x) >= .75 else \"Failed Test! [acc]\")"
      ],
      "execution_count": null,
      "outputs": [
        {
          "output_type": "stream",
          "text": [
            "Failed Test! [acc]\n"
          ],
          "name": "stdout"
        }
      ]
    },
    {
      "cell_type": "markdown",
      "metadata": {
        "id": "GQX1_vbupuRP"
      },
      "source": [
        "### Testing with ResNet-34"
      ]
    },
    {
      "cell_type": "code",
      "metadata": {
        "colab": {
          "base_uri": "https://localhost:8080/"
        },
        "id": "q4PFhY2qGLRy",
        "outputId": "cbbbfd46-baa1-4890-e423-19f24d8d9cab"
      },
      "source": [
        "BATCH_SIZE = 50\r\n",
        "LR = 1e-3\r\n",
        "EPOCHS = 20\r\n",
        "REPORTS_EVERY = 1\r\n",
        "\r\n",
        "net = ResNet34(n_classes=10)\r\n",
        "optimizer = optim.AdamW(net.parameters(),lr=LR)\r\n",
        "criterion = nn.CrossEntropyLoss()\r\n",
        "scheduler = torch.optim.lr_scheduler.StepLR(\r\n",
        "  optimizer=optimizer,step_size=1,gamma=0.85,verbose=True\r\n",
        ")\r\n",
        "\r\n",
        "train_loader = DataLoader(\r\n",
        "  trainset, batch_size=BATCH_SIZE,\r\n",
        "  shuffle=True, num_workers=2\r\n",
        ")\r\n",
        "test_loader = DataLoader(\r\n",
        "  testset, batch_size=BATCH_SIZE,\r\n",
        "  shuffle=False, num_workers=2\r\n",
        ")\r\n",
        "\r\n",
        "res34_train_loss, res34_acc = train_for_classification(\r\n",
        "  net, train_loader, \r\n",
        "  test_loader, optimizer, \r\n",
        "  criterion, lr_scheduler=scheduler, \r\n",
        "  epochs=EPOCHS, reports_every=REPORTS_EVERY\r\n",
        ")\r\n",
        "\r\n",
        "res34_train_loss = {\r\n",
        "  \"x\": [x+1 for x in range(20)],\r\n",
        "  \"y\": res34_train_loss,\r\n",
        "  \"name\": \"ResNet-34 Training Loss\"\r\n",
        "}\r\n",
        "\r\n",
        "res34_train_acc = {\r\n",
        "  \"x\": [x+1 for x in range(20)],\r\n",
        "  \"y\": res34_acc[0],\r\n",
        "  \"name\": \"ResNet-34 Training Acc\"\r\n",
        "}\r\n",
        "\r\n",
        "res34_val_acc = {\r\n",
        "  \"x\": [x+1 for x in range(20)],\r\n",
        "  \"y\": res34_acc[1],\r\n",
        "  \"name\": \"ResNet-34 Validation Acc\"\r\n",
        "}"
      ],
      "execution_count": null,
      "outputs": [
        {
          "output_type": "stream",
          "text": [
            "Adjusting learning rate of group 0 to 1.0000e-03.\n",
            "Epoch:1(50000/50000), lr:0.0010000, Loss:1.63300, Train Acc:38.8%, Validating..., Val Acc:46.71%, Avg-Time:144.865s.\n",
            "Adjusting learning rate of group 0 to 8.5000e-04.\n",
            "Epoch:2(50000/50000), lr:0.0008500, Loss:1.17505, Train Acc:57.6%, Validating..., Val Acc:61.87%, Avg-Time:144.890s.\n",
            "Adjusting learning rate of group 0 to 7.2250e-04.\n",
            "Epoch:3(50000/50000), lr:0.0007225, Loss:0.92354, Train Acc:67.1%, Validating..., Val Acc:69.03%, Avg-Time:144.963s.\n",
            "Adjusting learning rate of group 0 to 6.1412e-04.\n",
            "Epoch:4(50000/50000), lr:0.0006141, Loss:0.73227, Train Acc:74.3%, Validating..., Val Acc:74.85%, Avg-Time:145.010s.\n",
            "Adjusting learning rate of group 0 to 5.2201e-04.\n",
            "Epoch:5(50000/50000), lr:0.0005220, Loss:0.57626, Train Acc:80.0%, Validating..., Val Acc:76.79%, Avg-Time:145.025s.\n",
            "Adjusting learning rate of group 0 to 4.4371e-04.\n",
            "Epoch:6(50000/50000), lr:0.0004437, Loss:0.44443, Train Acc:84.6%, Validating..., Val Acc:79.39%, Avg-Time:145.024s.\n",
            "Adjusting learning rate of group 0 to 3.7715e-04.\n",
            "Epoch:7(50000/50000), lr:0.0003771, Loss:0.31477, Train Acc:89.2%, Validating..., Val Acc:79.78%, Avg-Time:145.028s.\n",
            "Adjusting learning rate of group 0 to 3.2058e-04.\n",
            "Epoch:8(50000/50000), lr:0.0003206, Loss:0.20481, Train Acc:92.9%, Validating..., Val Acc:80.20%, Avg-Time:145.039s.\n",
            "Adjusting learning rate of group 0 to 2.7249e-04.\n",
            "Epoch:9(50000/50000), lr:0.0002725, Loss:0.11794, Train Acc:96.1%, Validating..., Val Acc:79.85%, Avg-Time:145.054s.\n",
            "Adjusting learning rate of group 0 to 2.3162e-04.\n",
            "Epoch:10(50000/50000), lr:0.0002316, Loss:0.06895, Train Acc:97.7%, Validating..., Val Acc:80.57%, Avg-Time:145.069s.\n",
            "Adjusting learning rate of group 0 to 1.9687e-04.\n",
            "Epoch:11(50000/50000), lr:0.0001969, Loss:0.04151, Train Acc:98.7%, Validating..., Val Acc:80.23%, Avg-Time:145.098s.\n",
            "Adjusting learning rate of group 0 to 1.6734e-04.\n",
            "Epoch:12(50000/50000), lr:0.0001673, Loss:0.02703, Train Acc:99.2%, Validating..., Val Acc:80.56%, Avg-Time:145.100s.\n",
            "Adjusting learning rate of group 0 to 1.4224e-04.\n",
            "Epoch:13(50000/50000), lr:0.0001422, Loss:0.02006, Train Acc:99.4%, Validating..., Val Acc:80.68%, Avg-Time:145.099s.\n",
            "Adjusting learning rate of group 0 to 1.2091e-04.\n",
            "Epoch:14(50000/50000), lr:0.0001209, Loss:0.01716, Train Acc:99.5%, Validating..., Val Acc:80.36%, Avg-Time:145.116s.\n",
            "Adjusting learning rate of group 0 to 1.0277e-04.\n",
            "Epoch:15(50000/50000), lr:0.0001028, Loss:0.01059, Train Acc:99.7%, Validating..., Val Acc:80.51%, Avg-Time:145.118s.\n",
            "Adjusting learning rate of group 0 to 8.7354e-05.\n",
            "Epoch:16(50000/50000), lr:0.0000874, Loss:0.00809, Train Acc:99.8%, Validating..., Val Acc:80.96%, Avg-Time:145.110s.\n",
            "Adjusting learning rate of group 0 to 7.4251e-05.\n",
            "Epoch:17(50000/50000), lr:0.0000743, Loss:0.00713, Train Acc:99.8%, Validating..., Val Acc:80.87%, Avg-Time:145.115s.\n",
            "Adjusting learning rate of group 0 to 6.3113e-05.\n",
            "Epoch:18(50000/50000), lr:0.0000631, Loss:0.00557, Train Acc:99.9%, Validating..., Val Acc:81.25%, Avg-Time:145.121s.\n",
            "Adjusting learning rate of group 0 to 5.3646e-05.\n",
            "Epoch:19(50000/50000), lr:0.0000536, Loss:0.00399, Train Acc:99.9%, Validating..., Val Acc:81.06%, Avg-Time:145.135s.\n",
            "Adjusting learning rate of group 0 to 4.5599e-05.\n",
            "Epoch:20(50000/50000), lr:0.0000456, Loss:0.00323, Train Acc:99.9%, Validating..., Val Acc:81.44%, Avg-Time:145.142s.\n",
            "Adjusting learning rate of group 0 to 3.8760e-05.\n"
          ],
          "name": "stdout"
        }
      ]
    },
    {
      "cell_type": "code",
      "metadata": {
        "id": "MvVT8qNp3JxN",
        "colab": {
          "base_uri": "https://localhost:8080/",
          "height": 951
        },
        "outputId": "797a60fa-42b5-4fce-8cb7-0d4eda702180"
      },
      "source": [
        "plot_results([res34_train_loss], [res34_train_acc,res34_val_acc])"
      ],
      "execution_count": null,
      "outputs": [
        {
          "output_type": "display_data",
          "data": {
            "text/html": [
              "<html>\n",
              "<head><meta charset=\"utf-8\" /></head>\n",
              "<body>\n",
              "    <div>\n",
              "            <script src=\"https://cdnjs.cloudflare.com/ajax/libs/mathjax/2.7.5/MathJax.js?config=TeX-AMS-MML_SVG\"></script><script type=\"text/javascript\">if (window.MathJax) {MathJax.Hub.Config({SVG: {font: \"STIX-Web\"}});}</script>\n",
              "                <script type=\"text/javascript\">window.PlotlyConfig = {MathJaxConfig: 'local'};</script>\n",
              "        <script src=\"https://cdn.plot.ly/plotly-latest.min.js\"></script>    \n",
              "            <div id=\"d3d66364-f3eb-4aad-b381-e5bcd39d7130\" class=\"plotly-graph-div\" style=\"height:450px; width:700px;\"></div>\n",
              "            <script type=\"text/javascript\">\n",
              "                \n",
              "                    window.PLOTLYENV=window.PLOTLYENV || {};\n",
              "                    \n",
              "                if (document.getElementById(\"d3d66364-f3eb-4aad-b381-e5bcd39d7130\")) {\n",
              "                    Plotly.newPlot(\n",
              "                        'd3d66364-f3eb-4aad-b381-e5bcd39d7130',\n",
              "                        [{\"mode\": \"lines+markers\", \"name\": \"ResNet-34 Training Loss\", \"textposition\": \"bottom center\", \"type\": \"scatter\", \"x\": [1, 2, 3, 4, 5, 6, 7, 8, 9, 10, 11, 12, 13, 14, 15, 16, 17, 18, 19, 20], \"y\": [1.6329993689060212, 1.1750503682494164, 0.9235407932400703, 0.7322743968367577, 0.5762603430747986, 0.44443317045271397, 0.31477016819268466, 0.2048115946613252, 0.11794432650506496, 0.06895123879169114, 0.041508462667232376, 0.02703418257139856, 0.020056763908825815, 0.017163172000553457, 0.010586117728627869, 0.00808929169656767, 0.007128667832686915, 0.005568372158228157, 0.003992357164883288, 0.0032343222725576197]}],\n",
              "                        {\"autosize\": false, \"font\": {\"color\": \"#7f7f7f\", \"family\": \"Courier New, monospace\", \"size\": 14}, \"height\": 450, \"template\": {\"data\": {\"bar\": [{\"error_x\": {\"color\": \"#2a3f5f\"}, \"error_y\": {\"color\": \"#2a3f5f\"}, \"marker\": {\"line\": {\"color\": \"#E5ECF6\", \"width\": 0.5}}, \"type\": \"bar\"}], \"barpolar\": [{\"marker\": {\"line\": {\"color\": \"#E5ECF6\", \"width\": 0.5}}, \"type\": \"barpolar\"}], \"carpet\": [{\"aaxis\": {\"endlinecolor\": \"#2a3f5f\", \"gridcolor\": \"white\", \"linecolor\": \"white\", \"minorgridcolor\": \"white\", \"startlinecolor\": \"#2a3f5f\"}, \"baxis\": {\"endlinecolor\": \"#2a3f5f\", \"gridcolor\": \"white\", \"linecolor\": \"white\", \"minorgridcolor\": \"white\", \"startlinecolor\": \"#2a3f5f\"}, \"type\": \"carpet\"}], \"choropleth\": [{\"colorbar\": {\"outlinewidth\": 0, \"ticks\": \"\"}, \"type\": \"choropleth\"}], \"contour\": [{\"colorbar\": {\"outlinewidth\": 0, \"ticks\": \"\"}, \"colorscale\": [[0.0, \"#0d0887\"], [0.1111111111111111, \"#46039f\"], [0.2222222222222222, \"#7201a8\"], [0.3333333333333333, \"#9c179e\"], [0.4444444444444444, \"#bd3786\"], [0.5555555555555556, \"#d8576b\"], [0.6666666666666666, \"#ed7953\"], [0.7777777777777778, \"#fb9f3a\"], [0.8888888888888888, \"#fdca26\"], [1.0, \"#f0f921\"]], \"type\": \"contour\"}], \"contourcarpet\": [{\"colorbar\": {\"outlinewidth\": 0, \"ticks\": \"\"}, \"type\": \"contourcarpet\"}], \"heatmap\": [{\"colorbar\": {\"outlinewidth\": 0, \"ticks\": \"\"}, \"colorscale\": [[0.0, \"#0d0887\"], [0.1111111111111111, \"#46039f\"], [0.2222222222222222, \"#7201a8\"], [0.3333333333333333, \"#9c179e\"], [0.4444444444444444, \"#bd3786\"], [0.5555555555555556, \"#d8576b\"], [0.6666666666666666, \"#ed7953\"], [0.7777777777777778, \"#fb9f3a\"], [0.8888888888888888, \"#fdca26\"], [1.0, \"#f0f921\"]], \"type\": \"heatmap\"}], \"heatmapgl\": [{\"colorbar\": {\"outlinewidth\": 0, \"ticks\": \"\"}, \"colorscale\": [[0.0, \"#0d0887\"], [0.1111111111111111, \"#46039f\"], [0.2222222222222222, \"#7201a8\"], [0.3333333333333333, \"#9c179e\"], [0.4444444444444444, \"#bd3786\"], [0.5555555555555556, \"#d8576b\"], [0.6666666666666666, \"#ed7953\"], [0.7777777777777778, \"#fb9f3a\"], [0.8888888888888888, \"#fdca26\"], [1.0, \"#f0f921\"]], \"type\": \"heatmapgl\"}], \"histogram\": [{\"marker\": {\"colorbar\": {\"outlinewidth\": 0, \"ticks\": \"\"}}, \"type\": \"histogram\"}], \"histogram2d\": [{\"colorbar\": {\"outlinewidth\": 0, \"ticks\": \"\"}, \"colorscale\": [[0.0, \"#0d0887\"], [0.1111111111111111, \"#46039f\"], [0.2222222222222222, \"#7201a8\"], [0.3333333333333333, \"#9c179e\"], [0.4444444444444444, \"#bd3786\"], [0.5555555555555556, \"#d8576b\"], [0.6666666666666666, \"#ed7953\"], [0.7777777777777778, \"#fb9f3a\"], [0.8888888888888888, \"#fdca26\"], [1.0, \"#f0f921\"]], \"type\": \"histogram2d\"}], \"histogram2dcontour\": [{\"colorbar\": {\"outlinewidth\": 0, \"ticks\": \"\"}, \"colorscale\": [[0.0, \"#0d0887\"], [0.1111111111111111, \"#46039f\"], [0.2222222222222222, \"#7201a8\"], [0.3333333333333333, \"#9c179e\"], [0.4444444444444444, \"#bd3786\"], [0.5555555555555556, \"#d8576b\"], [0.6666666666666666, \"#ed7953\"], [0.7777777777777778, \"#fb9f3a\"], [0.8888888888888888, \"#fdca26\"], [1.0, \"#f0f921\"]], \"type\": \"histogram2dcontour\"}], \"mesh3d\": [{\"colorbar\": {\"outlinewidth\": 0, \"ticks\": \"\"}, \"type\": \"mesh3d\"}], \"parcoords\": [{\"line\": {\"colorbar\": {\"outlinewidth\": 0, \"ticks\": \"\"}}, \"type\": \"parcoords\"}], \"pie\": [{\"automargin\": true, \"type\": \"pie\"}], \"scatter\": [{\"marker\": {\"colorbar\": {\"outlinewidth\": 0, \"ticks\": \"\"}}, \"type\": \"scatter\"}], \"scatter3d\": [{\"line\": {\"colorbar\": {\"outlinewidth\": 0, \"ticks\": \"\"}}, \"marker\": {\"colorbar\": {\"outlinewidth\": 0, \"ticks\": \"\"}}, \"type\": \"scatter3d\"}], \"scattercarpet\": [{\"marker\": {\"colorbar\": {\"outlinewidth\": 0, \"ticks\": \"\"}}, \"type\": \"scattercarpet\"}], \"scattergeo\": [{\"marker\": {\"colorbar\": {\"outlinewidth\": 0, \"ticks\": \"\"}}, \"type\": \"scattergeo\"}], \"scattergl\": [{\"marker\": {\"colorbar\": {\"outlinewidth\": 0, \"ticks\": \"\"}}, \"type\": \"scattergl\"}], \"scattermapbox\": [{\"marker\": {\"colorbar\": {\"outlinewidth\": 0, \"ticks\": \"\"}}, \"type\": \"scattermapbox\"}], \"scatterpolar\": [{\"marker\": {\"colorbar\": {\"outlinewidth\": 0, \"ticks\": \"\"}}, \"type\": \"scatterpolar\"}], \"scatterpolargl\": [{\"marker\": {\"colorbar\": {\"outlinewidth\": 0, \"ticks\": \"\"}}, \"type\": \"scatterpolargl\"}], \"scatterternary\": [{\"marker\": {\"colorbar\": {\"outlinewidth\": 0, \"ticks\": \"\"}}, \"type\": \"scatterternary\"}], \"surface\": [{\"colorbar\": {\"outlinewidth\": 0, \"ticks\": \"\"}, \"colorscale\": [[0.0, \"#0d0887\"], [0.1111111111111111, \"#46039f\"], [0.2222222222222222, \"#7201a8\"], [0.3333333333333333, \"#9c179e\"], [0.4444444444444444, \"#bd3786\"], [0.5555555555555556, \"#d8576b\"], [0.6666666666666666, \"#ed7953\"], [0.7777777777777778, \"#fb9f3a\"], [0.8888888888888888, \"#fdca26\"], [1.0, \"#f0f921\"]], \"type\": \"surface\"}], \"table\": [{\"cells\": {\"fill\": {\"color\": \"#EBF0F8\"}, \"line\": {\"color\": \"white\"}}, \"header\": {\"fill\": {\"color\": \"#C8D4E3\"}, \"line\": {\"color\": \"white\"}}, \"type\": \"table\"}]}, \"layout\": {\"annotationdefaults\": {\"arrowcolor\": \"#2a3f5f\", \"arrowhead\": 0, \"arrowwidth\": 1}, \"coloraxis\": {\"colorbar\": {\"outlinewidth\": 0, \"ticks\": \"\"}}, \"colorscale\": {\"diverging\": [[0, \"#8e0152\"], [0.1, \"#c51b7d\"], [0.2, \"#de77ae\"], [0.3, \"#f1b6da\"], [0.4, \"#fde0ef\"], [0.5, \"#f7f7f7\"], [0.6, \"#e6f5d0\"], [0.7, \"#b8e186\"], [0.8, \"#7fbc41\"], [0.9, \"#4d9221\"], [1, \"#276419\"]], \"sequential\": [[0.0, \"#0d0887\"], [0.1111111111111111, \"#46039f\"], [0.2222222222222222, \"#7201a8\"], [0.3333333333333333, \"#9c179e\"], [0.4444444444444444, \"#bd3786\"], [0.5555555555555556, \"#d8576b\"], [0.6666666666666666, \"#ed7953\"], [0.7777777777777778, \"#fb9f3a\"], [0.8888888888888888, \"#fdca26\"], [1.0, \"#f0f921\"]], \"sequentialminus\": [[0.0, \"#0d0887\"], [0.1111111111111111, \"#46039f\"], [0.2222222222222222, \"#7201a8\"], [0.3333333333333333, \"#9c179e\"], [0.4444444444444444, \"#bd3786\"], [0.5555555555555556, \"#d8576b\"], [0.6666666666666666, \"#ed7953\"], [0.7777777777777778, \"#fb9f3a\"], [0.8888888888888888, \"#fdca26\"], [1.0, \"#f0f921\"]]}, \"colorway\": [\"#636efa\", \"#EF553B\", \"#00cc96\", \"#ab63fa\", \"#FFA15A\", \"#19d3f3\", \"#FF6692\", \"#B6E880\", \"#FF97FF\", \"#FECB52\"], \"font\": {\"color\": \"#2a3f5f\"}, \"geo\": {\"bgcolor\": \"white\", \"lakecolor\": \"white\", \"landcolor\": \"#E5ECF6\", \"showlakes\": true, \"showland\": true, \"subunitcolor\": \"white\"}, \"hoverlabel\": {\"align\": \"left\"}, \"hovermode\": \"closest\", \"mapbox\": {\"style\": \"light\"}, \"paper_bgcolor\": \"white\", \"plot_bgcolor\": \"#E5ECF6\", \"polar\": {\"angularaxis\": {\"gridcolor\": \"white\", \"linecolor\": \"white\", \"ticks\": \"\"}, \"bgcolor\": \"#E5ECF6\", \"radialaxis\": {\"gridcolor\": \"white\", \"linecolor\": \"white\", \"ticks\": \"\"}}, \"scene\": {\"xaxis\": {\"backgroundcolor\": \"#E5ECF6\", \"gridcolor\": \"white\", \"gridwidth\": 2, \"linecolor\": \"white\", \"showbackground\": true, \"ticks\": \"\", \"zerolinecolor\": \"white\"}, \"yaxis\": {\"backgroundcolor\": \"#E5ECF6\", \"gridcolor\": \"white\", \"gridwidth\": 2, \"linecolor\": \"white\", \"showbackground\": true, \"ticks\": \"\", \"zerolinecolor\": \"white\"}, \"zaxis\": {\"backgroundcolor\": \"#E5ECF6\", \"gridcolor\": \"white\", \"gridwidth\": 2, \"linecolor\": \"white\", \"showbackground\": true, \"ticks\": \"\", \"zerolinecolor\": \"white\"}}, \"shapedefaults\": {\"line\": {\"color\": \"#2a3f5f\"}}, \"ternary\": {\"aaxis\": {\"gridcolor\": \"white\", \"linecolor\": \"white\", \"ticks\": \"\"}, \"baxis\": {\"gridcolor\": \"white\", \"linecolor\": \"white\", \"ticks\": \"\"}, \"bgcolor\": \"#E5ECF6\", \"caxis\": {\"gridcolor\": \"white\", \"linecolor\": \"white\", \"ticks\": \"\"}}, \"title\": {\"x\": 0.05}, \"xaxis\": {\"automargin\": true, \"gridcolor\": \"white\", \"linecolor\": \"white\", \"ticks\": \"\", \"title\": {\"standoff\": 15}, \"zerolinecolor\": \"white\", \"zerolinewidth\": 2}, \"yaxis\": {\"automargin\": true, \"gridcolor\": \"white\", \"linecolor\": \"white\", \"ticks\": \"\", \"title\": {\"standoff\": 15}, \"zerolinecolor\": \"white\", \"zerolinewidth\": 2}}}, \"title\": {\"text\": \"Loss Chart\"}, \"width\": 700, \"xaxis\": {\"title\": {\"text\": \"Epochs\"}}, \"yaxis\": {\"title\": {\"text\": \"Loss\"}}},\n",
              "                        {\"responsive\": true}\n",
              "                    ).then(function(){\n",
              "                            \n",
              "var gd = document.getElementById('d3d66364-f3eb-4aad-b381-e5bcd39d7130');\n",
              "var x = new MutationObserver(function (mutations, observer) {{\n",
              "        var display = window.getComputedStyle(gd).display;\n",
              "        if (!display || display === 'none') {{\n",
              "            console.log([gd, 'removed!']);\n",
              "            Plotly.purge(gd);\n",
              "            observer.disconnect();\n",
              "        }}\n",
              "}});\n",
              "\n",
              "// Listen for the removal of the full notebook cells\n",
              "var notebookContainer = gd.closest('#notebook-container');\n",
              "if (notebookContainer) {{\n",
              "    x.observe(notebookContainer, {childList: true});\n",
              "}}\n",
              "\n",
              "// Listen for the clearing of the current output cell\n",
              "var outputEl = gd.closest('.output');\n",
              "if (outputEl) {{\n",
              "    x.observe(outputEl, {childList: true});\n",
              "}}\n",
              "\n",
              "                        })\n",
              "                };\n",
              "                \n",
              "            </script>\n",
              "        </div>\n",
              "</body>\n",
              "</html>"
            ]
          },
          "metadata": {
            "tags": []
          }
        },
        {
          "output_type": "stream",
          "text": [
            "\n",
            "\n"
          ],
          "name": "stdout"
        },
        {
          "output_type": "display_data",
          "data": {
            "text/html": [
              "<html>\n",
              "<head><meta charset=\"utf-8\" /></head>\n",
              "<body>\n",
              "    <div>\n",
              "            <script src=\"https://cdnjs.cloudflare.com/ajax/libs/mathjax/2.7.5/MathJax.js?config=TeX-AMS-MML_SVG\"></script><script type=\"text/javascript\">if (window.MathJax) {MathJax.Hub.Config({SVG: {font: \"STIX-Web\"}});}</script>\n",
              "                <script type=\"text/javascript\">window.PlotlyConfig = {MathJaxConfig: 'local'};</script>\n",
              "        <script src=\"https://cdn.plot.ly/plotly-latest.min.js\"></script>    \n",
              "            <div id=\"7e29a5f7-bdaf-478a-949c-fa8e11edef19\" class=\"plotly-graph-div\" style=\"height:450px; width:700px;\"></div>\n",
              "            <script type=\"text/javascript\">\n",
              "                \n",
              "                    window.PLOTLYENV=window.PLOTLYENV || {};\n",
              "                    \n",
              "                if (document.getElementById(\"7e29a5f7-bdaf-478a-949c-fa8e11edef19\")) {\n",
              "                    Plotly.newPlot(\n",
              "                        '7e29a5f7-bdaf-478a-949c-fa8e11edef19',\n",
              "                        [{\"mode\": \"lines+markers\", \"name\": \"ResNet-34 Training Acc\", \"textposition\": \"bottom center\", \"type\": \"scatter\", \"x\": [1, 2, 3, 4, 5, 6, 7, 8, 9, 10, 11, 12, 13, 14, 15, 16, 17, 18, 19, 20], \"y\": [38.768, 57.646, 67.098, 74.32600000000001, 79.97, 84.566, 89.18199999999999, 92.92200000000001, 96.11800000000001, 97.748, 98.68, 99.168, 99.39, 99.528, 99.71799999999999, 99.798, 99.834, 99.876, 99.894, 99.922]}, {\"mode\": \"lines+markers\", \"name\": \"ResNet-34 Validation Acc\", \"textposition\": \"bottom center\", \"type\": \"scatter\", \"x\": [1, 2, 3, 4, 5, 6, 7, 8, 9, 10, 11, 12, 13, 14, 15, 16, 17, 18, 19, 20], \"y\": [46.71, 61.870000000000005, 69.03, 74.85000000000001, 76.79, 79.39, 79.78, 80.2, 79.85, 80.57, 80.23, 80.56, 80.67999999999999, 80.36, 80.51, 80.96, 80.87, 81.25, 81.06, 81.44]}],\n",
              "                        {\"autosize\": false, \"font\": {\"color\": \"#7f7f7f\", \"family\": \"Courier New, monospace\", \"size\": 14}, \"height\": 450, \"template\": {\"data\": {\"bar\": [{\"error_x\": {\"color\": \"#2a3f5f\"}, \"error_y\": {\"color\": \"#2a3f5f\"}, \"marker\": {\"line\": {\"color\": \"#E5ECF6\", \"width\": 0.5}}, \"type\": \"bar\"}], \"barpolar\": [{\"marker\": {\"line\": {\"color\": \"#E5ECF6\", \"width\": 0.5}}, \"type\": \"barpolar\"}], \"carpet\": [{\"aaxis\": {\"endlinecolor\": \"#2a3f5f\", \"gridcolor\": \"white\", \"linecolor\": \"white\", \"minorgridcolor\": \"white\", \"startlinecolor\": \"#2a3f5f\"}, \"baxis\": {\"endlinecolor\": \"#2a3f5f\", \"gridcolor\": \"white\", \"linecolor\": \"white\", \"minorgridcolor\": \"white\", \"startlinecolor\": \"#2a3f5f\"}, \"type\": \"carpet\"}], \"choropleth\": [{\"colorbar\": {\"outlinewidth\": 0, \"ticks\": \"\"}, \"type\": \"choropleth\"}], \"contour\": [{\"colorbar\": {\"outlinewidth\": 0, \"ticks\": \"\"}, \"colorscale\": [[0.0, \"#0d0887\"], [0.1111111111111111, \"#46039f\"], [0.2222222222222222, \"#7201a8\"], [0.3333333333333333, \"#9c179e\"], [0.4444444444444444, \"#bd3786\"], [0.5555555555555556, \"#d8576b\"], [0.6666666666666666, \"#ed7953\"], [0.7777777777777778, \"#fb9f3a\"], [0.8888888888888888, \"#fdca26\"], [1.0, \"#f0f921\"]], \"type\": \"contour\"}], \"contourcarpet\": [{\"colorbar\": {\"outlinewidth\": 0, \"ticks\": \"\"}, \"type\": \"contourcarpet\"}], \"heatmap\": [{\"colorbar\": {\"outlinewidth\": 0, \"ticks\": \"\"}, \"colorscale\": [[0.0, \"#0d0887\"], [0.1111111111111111, \"#46039f\"], [0.2222222222222222, \"#7201a8\"], [0.3333333333333333, \"#9c179e\"], [0.4444444444444444, \"#bd3786\"], [0.5555555555555556, \"#d8576b\"], [0.6666666666666666, \"#ed7953\"], [0.7777777777777778, \"#fb9f3a\"], [0.8888888888888888, \"#fdca26\"], [1.0, \"#f0f921\"]], \"type\": \"heatmap\"}], \"heatmapgl\": [{\"colorbar\": {\"outlinewidth\": 0, \"ticks\": \"\"}, \"colorscale\": [[0.0, \"#0d0887\"], [0.1111111111111111, \"#46039f\"], [0.2222222222222222, \"#7201a8\"], [0.3333333333333333, \"#9c179e\"], [0.4444444444444444, \"#bd3786\"], [0.5555555555555556, \"#d8576b\"], [0.6666666666666666, \"#ed7953\"], [0.7777777777777778, \"#fb9f3a\"], [0.8888888888888888, \"#fdca26\"], [1.0, \"#f0f921\"]], \"type\": \"heatmapgl\"}], \"histogram\": [{\"marker\": {\"colorbar\": {\"outlinewidth\": 0, \"ticks\": \"\"}}, \"type\": \"histogram\"}], \"histogram2d\": [{\"colorbar\": {\"outlinewidth\": 0, \"ticks\": \"\"}, \"colorscale\": [[0.0, \"#0d0887\"], [0.1111111111111111, \"#46039f\"], [0.2222222222222222, \"#7201a8\"], [0.3333333333333333, \"#9c179e\"], [0.4444444444444444, \"#bd3786\"], [0.5555555555555556, \"#d8576b\"], [0.6666666666666666, \"#ed7953\"], [0.7777777777777778, \"#fb9f3a\"], [0.8888888888888888, \"#fdca26\"], [1.0, \"#f0f921\"]], \"type\": \"histogram2d\"}], \"histogram2dcontour\": [{\"colorbar\": {\"outlinewidth\": 0, \"ticks\": \"\"}, \"colorscale\": [[0.0, \"#0d0887\"], [0.1111111111111111, \"#46039f\"], [0.2222222222222222, \"#7201a8\"], [0.3333333333333333, \"#9c179e\"], [0.4444444444444444, \"#bd3786\"], [0.5555555555555556, \"#d8576b\"], [0.6666666666666666, \"#ed7953\"], [0.7777777777777778, \"#fb9f3a\"], [0.8888888888888888, \"#fdca26\"], [1.0, \"#f0f921\"]], \"type\": \"histogram2dcontour\"}], \"mesh3d\": [{\"colorbar\": {\"outlinewidth\": 0, \"ticks\": \"\"}, \"type\": \"mesh3d\"}], \"parcoords\": [{\"line\": {\"colorbar\": {\"outlinewidth\": 0, \"ticks\": \"\"}}, \"type\": \"parcoords\"}], \"pie\": [{\"automargin\": true, \"type\": \"pie\"}], \"scatter\": [{\"marker\": {\"colorbar\": {\"outlinewidth\": 0, \"ticks\": \"\"}}, \"type\": \"scatter\"}], \"scatter3d\": [{\"line\": {\"colorbar\": {\"outlinewidth\": 0, \"ticks\": \"\"}}, \"marker\": {\"colorbar\": {\"outlinewidth\": 0, \"ticks\": \"\"}}, \"type\": \"scatter3d\"}], \"scattercarpet\": [{\"marker\": {\"colorbar\": {\"outlinewidth\": 0, \"ticks\": \"\"}}, \"type\": \"scattercarpet\"}], \"scattergeo\": [{\"marker\": {\"colorbar\": {\"outlinewidth\": 0, \"ticks\": \"\"}}, \"type\": \"scattergeo\"}], \"scattergl\": [{\"marker\": {\"colorbar\": {\"outlinewidth\": 0, \"ticks\": \"\"}}, \"type\": \"scattergl\"}], \"scattermapbox\": [{\"marker\": {\"colorbar\": {\"outlinewidth\": 0, \"ticks\": \"\"}}, \"type\": \"scattermapbox\"}], \"scatterpolar\": [{\"marker\": {\"colorbar\": {\"outlinewidth\": 0, \"ticks\": \"\"}}, \"type\": \"scatterpolar\"}], \"scatterpolargl\": [{\"marker\": {\"colorbar\": {\"outlinewidth\": 0, \"ticks\": \"\"}}, \"type\": \"scatterpolargl\"}], \"scatterternary\": [{\"marker\": {\"colorbar\": {\"outlinewidth\": 0, \"ticks\": \"\"}}, \"type\": \"scatterternary\"}], \"surface\": [{\"colorbar\": {\"outlinewidth\": 0, \"ticks\": \"\"}, \"colorscale\": [[0.0, \"#0d0887\"], [0.1111111111111111, \"#46039f\"], [0.2222222222222222, \"#7201a8\"], [0.3333333333333333, \"#9c179e\"], [0.4444444444444444, \"#bd3786\"], [0.5555555555555556, \"#d8576b\"], [0.6666666666666666, \"#ed7953\"], [0.7777777777777778, \"#fb9f3a\"], [0.8888888888888888, \"#fdca26\"], [1.0, \"#f0f921\"]], \"type\": \"surface\"}], \"table\": [{\"cells\": {\"fill\": {\"color\": \"#EBF0F8\"}, \"line\": {\"color\": \"white\"}}, \"header\": {\"fill\": {\"color\": \"#C8D4E3\"}, \"line\": {\"color\": \"white\"}}, \"type\": \"table\"}]}, \"layout\": {\"annotationdefaults\": {\"arrowcolor\": \"#2a3f5f\", \"arrowhead\": 0, \"arrowwidth\": 1}, \"coloraxis\": {\"colorbar\": {\"outlinewidth\": 0, \"ticks\": \"\"}}, \"colorscale\": {\"diverging\": [[0, \"#8e0152\"], [0.1, \"#c51b7d\"], [0.2, \"#de77ae\"], [0.3, \"#f1b6da\"], [0.4, \"#fde0ef\"], [0.5, \"#f7f7f7\"], [0.6, \"#e6f5d0\"], [0.7, \"#b8e186\"], [0.8, \"#7fbc41\"], [0.9, \"#4d9221\"], [1, \"#276419\"]], \"sequential\": [[0.0, \"#0d0887\"], [0.1111111111111111, \"#46039f\"], [0.2222222222222222, \"#7201a8\"], [0.3333333333333333, \"#9c179e\"], [0.4444444444444444, \"#bd3786\"], [0.5555555555555556, \"#d8576b\"], [0.6666666666666666, \"#ed7953\"], [0.7777777777777778, \"#fb9f3a\"], [0.8888888888888888, \"#fdca26\"], [1.0, \"#f0f921\"]], \"sequentialminus\": [[0.0, \"#0d0887\"], [0.1111111111111111, \"#46039f\"], [0.2222222222222222, \"#7201a8\"], [0.3333333333333333, \"#9c179e\"], [0.4444444444444444, \"#bd3786\"], [0.5555555555555556, \"#d8576b\"], [0.6666666666666666, \"#ed7953\"], [0.7777777777777778, \"#fb9f3a\"], [0.8888888888888888, \"#fdca26\"], [1.0, \"#f0f921\"]]}, \"colorway\": [\"#636efa\", \"#EF553B\", \"#00cc96\", \"#ab63fa\", \"#FFA15A\", \"#19d3f3\", \"#FF6692\", \"#B6E880\", \"#FF97FF\", \"#FECB52\"], \"font\": {\"color\": \"#2a3f5f\"}, \"geo\": {\"bgcolor\": \"white\", \"lakecolor\": \"white\", \"landcolor\": \"#E5ECF6\", \"showlakes\": true, \"showland\": true, \"subunitcolor\": \"white\"}, \"hoverlabel\": {\"align\": \"left\"}, \"hovermode\": \"closest\", \"mapbox\": {\"style\": \"light\"}, \"paper_bgcolor\": \"white\", \"plot_bgcolor\": \"#E5ECF6\", \"polar\": {\"angularaxis\": {\"gridcolor\": \"white\", \"linecolor\": \"white\", \"ticks\": \"\"}, \"bgcolor\": \"#E5ECF6\", \"radialaxis\": {\"gridcolor\": \"white\", \"linecolor\": \"white\", \"ticks\": \"\"}}, \"scene\": {\"xaxis\": {\"backgroundcolor\": \"#E5ECF6\", \"gridcolor\": \"white\", \"gridwidth\": 2, \"linecolor\": \"white\", \"showbackground\": true, \"ticks\": \"\", \"zerolinecolor\": \"white\"}, \"yaxis\": {\"backgroundcolor\": \"#E5ECF6\", \"gridcolor\": \"white\", \"gridwidth\": 2, \"linecolor\": \"white\", \"showbackground\": true, \"ticks\": \"\", \"zerolinecolor\": \"white\"}, \"zaxis\": {\"backgroundcolor\": \"#E5ECF6\", \"gridcolor\": \"white\", \"gridwidth\": 2, \"linecolor\": \"white\", \"showbackground\": true, \"ticks\": \"\", \"zerolinecolor\": \"white\"}}, \"shapedefaults\": {\"line\": {\"color\": \"#2a3f5f\"}}, \"ternary\": {\"aaxis\": {\"gridcolor\": \"white\", \"linecolor\": \"white\", \"ticks\": \"\"}, \"baxis\": {\"gridcolor\": \"white\", \"linecolor\": \"white\", \"ticks\": \"\"}, \"bgcolor\": \"#E5ECF6\", \"caxis\": {\"gridcolor\": \"white\", \"linecolor\": \"white\", \"ticks\": \"\"}}, \"title\": {\"x\": 0.05}, \"xaxis\": {\"automargin\": true, \"gridcolor\": \"white\", \"linecolor\": \"white\", \"ticks\": \"\", \"title\": {\"standoff\": 15}, \"zerolinecolor\": \"white\", \"zerolinewidth\": 2}, \"yaxis\": {\"automargin\": true, \"gridcolor\": \"white\", \"linecolor\": \"white\", \"ticks\": \"\", \"title\": {\"standoff\": 15}, \"zerolinecolor\": \"white\", \"zerolinewidth\": 2}}}, \"title\": {\"text\": \"Metric Chart\"}, \"width\": 700, \"xaxis\": {\"title\": {\"text\": \"Epochs\"}}, \"yaxis\": {\"title\": {\"text\": \"Score\"}}},\n",
              "                        {\"responsive\": true}\n",
              "                    ).then(function(){\n",
              "                            \n",
              "var gd = document.getElementById('7e29a5f7-bdaf-478a-949c-fa8e11edef19');\n",
              "var x = new MutationObserver(function (mutations, observer) {{\n",
              "        var display = window.getComputedStyle(gd).display;\n",
              "        if (!display || display === 'none') {{\n",
              "            console.log([gd, 'removed!']);\n",
              "            Plotly.purge(gd);\n",
              "            observer.disconnect();\n",
              "        }}\n",
              "}});\n",
              "\n",
              "// Listen for the removal of the full notebook cells\n",
              "var notebookContainer = gd.closest('#notebook-container');\n",
              "if (notebookContainer) {{\n",
              "    x.observe(notebookContainer, {childList: true});\n",
              "}}\n",
              "\n",
              "// Listen for the clearing of the current output cell\n",
              "var outputEl = gd.closest('.output');\n",
              "if (outputEl) {{\n",
              "    x.observe(outputEl, {childList: true});\n",
              "}}\n",
              "\n",
              "                        })\n",
              "                };\n",
              "                \n",
              "            </script>\n",
              "        </div>\n",
              "</body>\n",
              "</html>"
            ]
          },
          "metadata": {
            "tags": []
          }
        }
      ]
    },
    {
      "cell_type": "markdown",
      "metadata": {
        "id": "s7y6E2-Op0Xl"
      },
      "source": [
        "### Testing with ResNet-50"
      ]
    },
    {
      "cell_type": "code",
      "metadata": {
        "id": "KMBuVkX1al1m",
        "colab": {
          "base_uri": "https://localhost:8080/"
        },
        "outputId": "abef6915-f41d-414e-cabd-e9a6e39c4470"
      },
      "source": [
        "BATCH_SIZE = 50\r\n",
        "LR = 1e-3\r\n",
        "EPOCHS = 20\r\n",
        "REPORTS_EVERY = 1\r\n",
        "\r\n",
        "net = ResNet50(n_classes=10)\r\n",
        "optimizer = optim.AdamW(net.parameters(),lr=LR)\r\n",
        "criterion = nn.CrossEntropyLoss()\r\n",
        "scheduler = torch.optim.lr_scheduler.StepLR(\r\n",
        "  optimizer=optimizer,step_size=1,gamma=0.85,verbose=True\r\n",
        ")\r\n",
        "\r\n",
        "train_loader = DataLoader(\r\n",
        "  trainset, batch_size=BATCH_SIZE,\r\n",
        "  shuffle=True, num_workers=2\r\n",
        ")\r\n",
        "test_loader = DataLoader(\r\n",
        "  testset, batch_size=BATCH_SIZE,\r\n",
        "  shuffle=False, num_workers=2\r\n",
        ")\r\n",
        "\r\n",
        "res50_train_loss, res50_acc = train_for_classification(\r\n",
        "  net, train_loader, \r\n",
        "  test_loader, optimizer, \r\n",
        "  criterion, lr_scheduler=scheduler, \r\n",
        "  epochs=EPOCHS, reports_every=REPORTS_EVERY\r\n",
        ")\r\n",
        "\r\n",
        "res50_train_loss = {\r\n",
        "  \"x\": [x+1 for x in range(20)],\r\n",
        "  \"y\": res50_train_loss,\r\n",
        "  \"name\": \"ResNet-50 Training Loss\"\r\n",
        "}\r\n",
        "\r\n",
        "res50_train_acc = {\r\n",
        "  \"x\": [x+1 for x in range(20)],\r\n",
        "  \"y\": res50_acc[0],\r\n",
        "  \"name\": \"ResNet-50 Training Acc\"\r\n",
        "}\r\n",
        "\r\n",
        "res50_val_acc = {\r\n",
        "  \"x\": [x+1 for x in range(20)],\r\n",
        "  \"y\": res50_acc[1],\r\n",
        "  \"name\": \"ResNet-50 Validation Acc\"\r\n",
        "}\r\n",
        "\r\n"
      ],
      "execution_count": null,
      "outputs": [
        {
          "output_type": "stream",
          "text": [
            "Adjusting learning rate of group 0 to 1.0000e-03.\n",
            "Epoch:1(50000/50000), lr:0.0010000, Loss:1.62492, Train Acc:40.9%, Validating..., Val Acc:52.80%, Avg-Time:304.801s.\n",
            "Adjusting learning rate of group 0 to 8.5000e-04.\n",
            "Epoch:2(50000/50000), lr:0.0008500, Loss:1.22233, Train Acc:56.5%, Validating..., Val Acc:58.35%, Avg-Time:304.847s.\n",
            "Adjusting learning rate of group 0 to 7.2250e-04.\n",
            "Epoch:3(50000/50000), lr:0.0007225, Loss:0.98424, Train Acc:65.3%, Validating..., Val Acc:65.82%, Avg-Time:304.839s.\n",
            "Adjusting learning rate of group 0 to 6.1412e-04.\n",
            "Epoch:4(50000/50000), lr:0.0006141, Loss:0.82056, Train Acc:71.2%, Validating..., Val Acc:72.04%, Avg-Time:304.918s.\n",
            "Adjusting learning rate of group 0 to 5.2201e-04.\n",
            "Epoch:5(50000/50000), lr:0.0005220, Loss:0.68643, Train Acc:76.0%, Validating..., Val Acc:74.74%, Avg-Time:305.006s.\n",
            "Adjusting learning rate of group 0 to 4.4371e-04.\n",
            "Epoch:6(50000/50000), lr:0.0004437, Loss:0.57593, Train Acc:80.0%, Validating..., Val Acc:74.86%, Avg-Time:305.063s.\n",
            "Adjusting learning rate of group 0 to 3.7715e-04.\n",
            "Epoch:7(50000/50000), lr:0.0003771, Loss:0.46697, Train Acc:83.8%, Validating..., Val Acc:77.95%, Avg-Time:305.177s.\n",
            "Adjusting learning rate of group 0 to 3.2058e-04.\n",
            "Epoch:8(50000/50000), lr:0.0003206, Loss:0.35491, Train Acc:87.7%, Validating..., Val Acc:78.37%, Avg-Time:305.200s.\n",
            "Adjusting learning rate of group 0 to 2.7249e-04.\n",
            "Epoch:9(50000/50000), lr:0.0002725, Loss:0.25167, Train Acc:91.4%, Validating..., Val Acc:78.97%, Avg-Time:305.269s.\n",
            "Adjusting learning rate of group 0 to 2.3162e-04.\n",
            "Epoch:10(50000/50000), lr:0.0002316, Loss:0.16397, Train Acc:94.5%, Validating..., Val Acc:79.27%, Avg-Time:305.320s.\n",
            "Adjusting learning rate of group 0 to 1.9687e-04.\n",
            "Epoch:11(50000/50000), lr:0.0001969, Loss:0.10351, Train Acc:96.6%, Validating..., Val Acc:79.19%, Avg-Time:305.361s.\n",
            "Adjusting learning rate of group 0 to 1.6734e-04.\n",
            "Epoch:12(50000/50000), lr:0.0001673, Loss:0.06329, Train Acc:98.0%, Validating..., Val Acc:79.99%, Avg-Time:305.429s.\n",
            "Adjusting learning rate of group 0 to 1.4224e-04.\n",
            "Epoch:13(50000/50000), lr:0.0001422, Loss:0.04015, Train Acc:98.7%, Validating..., Val Acc:80.04%, Avg-Time:305.469s.\n",
            "Adjusting learning rate of group 0 to 1.2091e-04.\n",
            "Epoch:14(50000/50000), lr:0.0001209, Loss:0.03072, Train Acc:99.1%, Validating..., Val Acc:80.01%, Avg-Time:305.502s.\n",
            "Adjusting learning rate of group 0 to 1.0277e-04.\n",
            "Epoch:15(50000/50000), lr:0.0001028, Loss:0.02202, Train Acc:99.3%, Validating..., Val Acc:80.46%, Avg-Time:305.514s.\n",
            "Adjusting learning rate of group 0 to 8.7354e-05.\n",
            "Epoch:16(50000/50000), lr:0.0000874, Loss:0.01706, Train Acc:99.5%, Validating..., Val Acc:79.87%, Avg-Time:305.529s.\n",
            "Adjusting learning rate of group 0 to 7.4251e-05.\n",
            "Epoch:17(50000/50000), lr:0.0000743, Loss:0.01290, Train Acc:99.7%, Validating..., Val Acc:80.50%, Avg-Time:305.557s.\n",
            "Adjusting learning rate of group 0 to 6.3113e-05.\n",
            "Epoch:18(50000/50000), lr:0.0000631, Loss:0.00955, Train Acc:99.7%, Validating..., Val Acc:80.46%, Avg-Time:305.579s.\n",
            "Adjusting learning rate of group 0 to 5.3646e-05.\n",
            "Epoch:19(50000/50000), lr:0.0000536, Loss:0.00731, Train Acc:99.8%, Validating..., Val Acc:80.12%, Avg-Time:305.615s.\n",
            "Adjusting learning rate of group 0 to 4.5599e-05.\n",
            "Epoch:20(50000/50000), lr:0.0000456, Loss:0.00622, Train Acc:99.8%, Validating..., Val Acc:80.55%, Avg-Time:305.628s.\n",
            "Adjusting learning rate of group 0 to 3.8760e-05.\n"
          ],
          "name": "stdout"
        }
      ]
    },
    {
      "cell_type": "code",
      "metadata": {
        "id": "Fm8touKxHgTY",
        "colab": {
          "base_uri": "https://localhost:8080/",
          "height": 951
        },
        "outputId": "c50ad33a-31f6-464d-ef01-01f226c535d6"
      },
      "source": [
        "plot_results([res50_train_loss], [res50_train_acc,res50_val_acc])"
      ],
      "execution_count": null,
      "outputs": [
        {
          "output_type": "display_data",
          "data": {
            "text/html": [
              "<html>\n",
              "<head><meta charset=\"utf-8\" /></head>\n",
              "<body>\n",
              "    <div>\n",
              "            <script src=\"https://cdnjs.cloudflare.com/ajax/libs/mathjax/2.7.5/MathJax.js?config=TeX-AMS-MML_SVG\"></script><script type=\"text/javascript\">if (window.MathJax) {MathJax.Hub.Config({SVG: {font: \"STIX-Web\"}});}</script>\n",
              "                <script type=\"text/javascript\">window.PlotlyConfig = {MathJaxConfig: 'local'};</script>\n",
              "        <script src=\"https://cdn.plot.ly/plotly-latest.min.js\"></script>    \n",
              "            <div id=\"43161309-db05-4d2b-b818-420818bfbe96\" class=\"plotly-graph-div\" style=\"height:450px; width:700px;\"></div>\n",
              "            <script type=\"text/javascript\">\n",
              "                \n",
              "                    window.PLOTLYENV=window.PLOTLYENV || {};\n",
              "                    \n",
              "                if (document.getElementById(\"43161309-db05-4d2b-b818-420818bfbe96\")) {\n",
              "                    Plotly.newPlot(\n",
              "                        '43161309-db05-4d2b-b818-420818bfbe96',\n",
              "                        [{\"mode\": \"lines+markers\", \"name\": \"ResNet-50 Training Loss\", \"textposition\": \"bottom center\", \"type\": \"scatter\", \"x\": [1, 2, 3, 4, 5, 6, 7, 8, 9, 10, 11, 12, 13, 14, 15, 16, 17, 18, 19, 20], \"y\": [1.6249245213866235, 1.222332206249237, 0.9842439130544662, 0.8205567219257355, 0.686427768856287, 0.5759334047436714, 0.4669733117669821, 0.3549147128388286, 0.2516739981546998, 0.16396933642402292, 0.10351239974889904, 0.06328699852479622, 0.04015385242900811, 0.030724116903089453, 0.022017070871777834, 0.017063098802551396, 0.01289593416970456, 0.00954664517659694, 0.007308342612246633, 0.006220245687567513]}],\n",
              "                        {\"autosize\": false, \"font\": {\"color\": \"#7f7f7f\", \"family\": \"Courier New, monospace\", \"size\": 14}, \"height\": 450, \"template\": {\"data\": {\"bar\": [{\"error_x\": {\"color\": \"#2a3f5f\"}, \"error_y\": {\"color\": \"#2a3f5f\"}, \"marker\": {\"line\": {\"color\": \"#E5ECF6\", \"width\": 0.5}}, \"type\": \"bar\"}], \"barpolar\": [{\"marker\": {\"line\": {\"color\": \"#E5ECF6\", \"width\": 0.5}}, \"type\": \"barpolar\"}], \"carpet\": [{\"aaxis\": {\"endlinecolor\": \"#2a3f5f\", \"gridcolor\": \"white\", \"linecolor\": \"white\", \"minorgridcolor\": \"white\", \"startlinecolor\": \"#2a3f5f\"}, \"baxis\": {\"endlinecolor\": \"#2a3f5f\", \"gridcolor\": \"white\", \"linecolor\": \"white\", \"minorgridcolor\": \"white\", \"startlinecolor\": \"#2a3f5f\"}, \"type\": \"carpet\"}], \"choropleth\": [{\"colorbar\": {\"outlinewidth\": 0, \"ticks\": \"\"}, \"type\": \"choropleth\"}], \"contour\": [{\"colorbar\": {\"outlinewidth\": 0, \"ticks\": \"\"}, \"colorscale\": [[0.0, \"#0d0887\"], [0.1111111111111111, \"#46039f\"], [0.2222222222222222, \"#7201a8\"], [0.3333333333333333, \"#9c179e\"], [0.4444444444444444, \"#bd3786\"], [0.5555555555555556, \"#d8576b\"], [0.6666666666666666, \"#ed7953\"], [0.7777777777777778, \"#fb9f3a\"], [0.8888888888888888, \"#fdca26\"], [1.0, \"#f0f921\"]], \"type\": \"contour\"}], \"contourcarpet\": [{\"colorbar\": {\"outlinewidth\": 0, \"ticks\": \"\"}, \"type\": \"contourcarpet\"}], \"heatmap\": [{\"colorbar\": {\"outlinewidth\": 0, \"ticks\": \"\"}, \"colorscale\": [[0.0, \"#0d0887\"], [0.1111111111111111, \"#46039f\"], [0.2222222222222222, \"#7201a8\"], [0.3333333333333333, \"#9c179e\"], [0.4444444444444444, \"#bd3786\"], [0.5555555555555556, \"#d8576b\"], [0.6666666666666666, \"#ed7953\"], [0.7777777777777778, \"#fb9f3a\"], [0.8888888888888888, \"#fdca26\"], [1.0, \"#f0f921\"]], \"type\": \"heatmap\"}], \"heatmapgl\": [{\"colorbar\": {\"outlinewidth\": 0, \"ticks\": \"\"}, \"colorscale\": [[0.0, \"#0d0887\"], [0.1111111111111111, \"#46039f\"], [0.2222222222222222, \"#7201a8\"], [0.3333333333333333, \"#9c179e\"], [0.4444444444444444, \"#bd3786\"], [0.5555555555555556, \"#d8576b\"], [0.6666666666666666, \"#ed7953\"], [0.7777777777777778, \"#fb9f3a\"], [0.8888888888888888, \"#fdca26\"], [1.0, \"#f0f921\"]], \"type\": \"heatmapgl\"}], \"histogram\": [{\"marker\": {\"colorbar\": {\"outlinewidth\": 0, \"ticks\": \"\"}}, \"type\": \"histogram\"}], \"histogram2d\": [{\"colorbar\": {\"outlinewidth\": 0, \"ticks\": \"\"}, \"colorscale\": [[0.0, \"#0d0887\"], [0.1111111111111111, \"#46039f\"], [0.2222222222222222, \"#7201a8\"], [0.3333333333333333, \"#9c179e\"], [0.4444444444444444, \"#bd3786\"], [0.5555555555555556, \"#d8576b\"], [0.6666666666666666, \"#ed7953\"], [0.7777777777777778, \"#fb9f3a\"], [0.8888888888888888, \"#fdca26\"], [1.0, \"#f0f921\"]], \"type\": \"histogram2d\"}], \"histogram2dcontour\": [{\"colorbar\": {\"outlinewidth\": 0, \"ticks\": \"\"}, \"colorscale\": [[0.0, \"#0d0887\"], [0.1111111111111111, \"#46039f\"], [0.2222222222222222, \"#7201a8\"], [0.3333333333333333, \"#9c179e\"], [0.4444444444444444, \"#bd3786\"], [0.5555555555555556, \"#d8576b\"], [0.6666666666666666, \"#ed7953\"], [0.7777777777777778, \"#fb9f3a\"], [0.8888888888888888, \"#fdca26\"], [1.0, \"#f0f921\"]], \"type\": \"histogram2dcontour\"}], \"mesh3d\": [{\"colorbar\": {\"outlinewidth\": 0, \"ticks\": \"\"}, \"type\": \"mesh3d\"}], \"parcoords\": [{\"line\": {\"colorbar\": {\"outlinewidth\": 0, \"ticks\": \"\"}}, \"type\": \"parcoords\"}], \"pie\": [{\"automargin\": true, \"type\": \"pie\"}], \"scatter\": [{\"marker\": {\"colorbar\": {\"outlinewidth\": 0, \"ticks\": \"\"}}, \"type\": \"scatter\"}], \"scatter3d\": [{\"line\": {\"colorbar\": {\"outlinewidth\": 0, \"ticks\": \"\"}}, \"marker\": {\"colorbar\": {\"outlinewidth\": 0, \"ticks\": \"\"}}, \"type\": \"scatter3d\"}], \"scattercarpet\": [{\"marker\": {\"colorbar\": {\"outlinewidth\": 0, \"ticks\": \"\"}}, \"type\": \"scattercarpet\"}], \"scattergeo\": [{\"marker\": {\"colorbar\": {\"outlinewidth\": 0, \"ticks\": \"\"}}, \"type\": \"scattergeo\"}], \"scattergl\": [{\"marker\": {\"colorbar\": {\"outlinewidth\": 0, \"ticks\": \"\"}}, \"type\": \"scattergl\"}], \"scattermapbox\": [{\"marker\": {\"colorbar\": {\"outlinewidth\": 0, \"ticks\": \"\"}}, \"type\": \"scattermapbox\"}], \"scatterpolar\": [{\"marker\": {\"colorbar\": {\"outlinewidth\": 0, \"ticks\": \"\"}}, \"type\": \"scatterpolar\"}], \"scatterpolargl\": [{\"marker\": {\"colorbar\": {\"outlinewidth\": 0, \"ticks\": \"\"}}, \"type\": \"scatterpolargl\"}], \"scatterternary\": [{\"marker\": {\"colorbar\": {\"outlinewidth\": 0, \"ticks\": \"\"}}, \"type\": \"scatterternary\"}], \"surface\": [{\"colorbar\": {\"outlinewidth\": 0, \"ticks\": \"\"}, \"colorscale\": [[0.0, \"#0d0887\"], [0.1111111111111111, \"#46039f\"], [0.2222222222222222, \"#7201a8\"], [0.3333333333333333, \"#9c179e\"], [0.4444444444444444, \"#bd3786\"], [0.5555555555555556, \"#d8576b\"], [0.6666666666666666, \"#ed7953\"], [0.7777777777777778, \"#fb9f3a\"], [0.8888888888888888, \"#fdca26\"], [1.0, \"#f0f921\"]], \"type\": \"surface\"}], \"table\": [{\"cells\": {\"fill\": {\"color\": \"#EBF0F8\"}, \"line\": {\"color\": \"white\"}}, \"header\": {\"fill\": {\"color\": \"#C8D4E3\"}, \"line\": {\"color\": \"white\"}}, \"type\": \"table\"}]}, \"layout\": {\"annotationdefaults\": {\"arrowcolor\": \"#2a3f5f\", \"arrowhead\": 0, \"arrowwidth\": 1}, \"coloraxis\": {\"colorbar\": {\"outlinewidth\": 0, \"ticks\": \"\"}}, \"colorscale\": {\"diverging\": [[0, \"#8e0152\"], [0.1, \"#c51b7d\"], [0.2, \"#de77ae\"], [0.3, \"#f1b6da\"], [0.4, \"#fde0ef\"], [0.5, \"#f7f7f7\"], [0.6, \"#e6f5d0\"], [0.7, \"#b8e186\"], [0.8, \"#7fbc41\"], [0.9, \"#4d9221\"], [1, \"#276419\"]], \"sequential\": [[0.0, \"#0d0887\"], [0.1111111111111111, \"#46039f\"], [0.2222222222222222, \"#7201a8\"], [0.3333333333333333, \"#9c179e\"], [0.4444444444444444, \"#bd3786\"], [0.5555555555555556, \"#d8576b\"], [0.6666666666666666, \"#ed7953\"], [0.7777777777777778, \"#fb9f3a\"], [0.8888888888888888, \"#fdca26\"], [1.0, \"#f0f921\"]], \"sequentialminus\": [[0.0, \"#0d0887\"], [0.1111111111111111, \"#46039f\"], [0.2222222222222222, \"#7201a8\"], [0.3333333333333333, \"#9c179e\"], [0.4444444444444444, \"#bd3786\"], [0.5555555555555556, \"#d8576b\"], [0.6666666666666666, \"#ed7953\"], [0.7777777777777778, \"#fb9f3a\"], [0.8888888888888888, \"#fdca26\"], [1.0, \"#f0f921\"]]}, \"colorway\": [\"#636efa\", \"#EF553B\", \"#00cc96\", \"#ab63fa\", \"#FFA15A\", \"#19d3f3\", \"#FF6692\", \"#B6E880\", \"#FF97FF\", \"#FECB52\"], \"font\": {\"color\": \"#2a3f5f\"}, \"geo\": {\"bgcolor\": \"white\", \"lakecolor\": \"white\", \"landcolor\": \"#E5ECF6\", \"showlakes\": true, \"showland\": true, \"subunitcolor\": \"white\"}, \"hoverlabel\": {\"align\": \"left\"}, \"hovermode\": \"closest\", \"mapbox\": {\"style\": \"light\"}, \"paper_bgcolor\": \"white\", \"plot_bgcolor\": \"#E5ECF6\", \"polar\": {\"angularaxis\": {\"gridcolor\": \"white\", \"linecolor\": \"white\", \"ticks\": \"\"}, \"bgcolor\": \"#E5ECF6\", \"radialaxis\": {\"gridcolor\": \"white\", \"linecolor\": \"white\", \"ticks\": \"\"}}, \"scene\": {\"xaxis\": {\"backgroundcolor\": \"#E5ECF6\", \"gridcolor\": \"white\", \"gridwidth\": 2, \"linecolor\": \"white\", \"showbackground\": true, \"ticks\": \"\", \"zerolinecolor\": \"white\"}, \"yaxis\": {\"backgroundcolor\": \"#E5ECF6\", \"gridcolor\": \"white\", \"gridwidth\": 2, \"linecolor\": \"white\", \"showbackground\": true, \"ticks\": \"\", \"zerolinecolor\": \"white\"}, \"zaxis\": {\"backgroundcolor\": \"#E5ECF6\", \"gridcolor\": \"white\", \"gridwidth\": 2, \"linecolor\": \"white\", \"showbackground\": true, \"ticks\": \"\", \"zerolinecolor\": \"white\"}}, \"shapedefaults\": {\"line\": {\"color\": \"#2a3f5f\"}}, \"ternary\": {\"aaxis\": {\"gridcolor\": \"white\", \"linecolor\": \"white\", \"ticks\": \"\"}, \"baxis\": {\"gridcolor\": \"white\", \"linecolor\": \"white\", \"ticks\": \"\"}, \"bgcolor\": \"#E5ECF6\", \"caxis\": {\"gridcolor\": \"white\", \"linecolor\": \"white\", \"ticks\": \"\"}}, \"title\": {\"x\": 0.05}, \"xaxis\": {\"automargin\": true, \"gridcolor\": \"white\", \"linecolor\": \"white\", \"ticks\": \"\", \"title\": {\"standoff\": 15}, \"zerolinecolor\": \"white\", \"zerolinewidth\": 2}, \"yaxis\": {\"automargin\": true, \"gridcolor\": \"white\", \"linecolor\": \"white\", \"ticks\": \"\", \"title\": {\"standoff\": 15}, \"zerolinecolor\": \"white\", \"zerolinewidth\": 2}}}, \"title\": {\"text\": \"Loss Chart\"}, \"width\": 700, \"xaxis\": {\"title\": {\"text\": \"Epochs\"}}, \"yaxis\": {\"title\": {\"text\": \"Loss\"}}},\n",
              "                        {\"responsive\": true}\n",
              "                    ).then(function(){\n",
              "                            \n",
              "var gd = document.getElementById('43161309-db05-4d2b-b818-420818bfbe96');\n",
              "var x = new MutationObserver(function (mutations, observer) {{\n",
              "        var display = window.getComputedStyle(gd).display;\n",
              "        if (!display || display === 'none') {{\n",
              "            console.log([gd, 'removed!']);\n",
              "            Plotly.purge(gd);\n",
              "            observer.disconnect();\n",
              "        }}\n",
              "}});\n",
              "\n",
              "// Listen for the removal of the full notebook cells\n",
              "var notebookContainer = gd.closest('#notebook-container');\n",
              "if (notebookContainer) {{\n",
              "    x.observe(notebookContainer, {childList: true});\n",
              "}}\n",
              "\n",
              "// Listen for the clearing of the current output cell\n",
              "var outputEl = gd.closest('.output');\n",
              "if (outputEl) {{\n",
              "    x.observe(outputEl, {childList: true});\n",
              "}}\n",
              "\n",
              "                        })\n",
              "                };\n",
              "                \n",
              "            </script>\n",
              "        </div>\n",
              "</body>\n",
              "</html>"
            ]
          },
          "metadata": {
            "tags": []
          }
        },
        {
          "output_type": "stream",
          "text": [
            "\n",
            "\n"
          ],
          "name": "stdout"
        },
        {
          "output_type": "display_data",
          "data": {
            "text/html": [
              "<html>\n",
              "<head><meta charset=\"utf-8\" /></head>\n",
              "<body>\n",
              "    <div>\n",
              "            <script src=\"https://cdnjs.cloudflare.com/ajax/libs/mathjax/2.7.5/MathJax.js?config=TeX-AMS-MML_SVG\"></script><script type=\"text/javascript\">if (window.MathJax) {MathJax.Hub.Config({SVG: {font: \"STIX-Web\"}});}</script>\n",
              "                <script type=\"text/javascript\">window.PlotlyConfig = {MathJaxConfig: 'local'};</script>\n",
              "        <script src=\"https://cdn.plot.ly/plotly-latest.min.js\"></script>    \n",
              "            <div id=\"26aaa162-ee5b-4ecf-872d-5a57f446f7bf\" class=\"plotly-graph-div\" style=\"height:450px; width:700px;\"></div>\n",
              "            <script type=\"text/javascript\">\n",
              "                \n",
              "                    window.PLOTLYENV=window.PLOTLYENV || {};\n",
              "                    \n",
              "                if (document.getElementById(\"26aaa162-ee5b-4ecf-872d-5a57f446f7bf\")) {\n",
              "                    Plotly.newPlot(\n",
              "                        '26aaa162-ee5b-4ecf-872d-5a57f446f7bf',\n",
              "                        [{\"mode\": \"lines+markers\", \"name\": \"ResNet-50 Training Acc\", \"textposition\": \"bottom center\", \"type\": \"scatter\", \"x\": [1, 2, 3, 4, 5, 6, 7, 8, 9, 10, 11, 12, 13, 14, 15, 16, 17, 18, 19, 20], \"y\": [40.884, 56.462, 65.34, 71.25, 75.98, 79.994, 83.80199999999999, 87.724, 91.364, 94.54, 96.562, 97.99, 98.744, 99.07000000000001, 99.348, 99.512, 99.66199999999999, 99.734, 99.812, 99.848]}, {\"mode\": \"lines+markers\", \"name\": \"ResNet-50 Validation Acc\", \"textposition\": \"bottom center\", \"type\": \"scatter\", \"x\": [1, 2, 3, 4, 5, 6, 7, 8, 9, 10, 11, 12, 13, 14, 15, 16, 17, 18, 19, 20], \"y\": [52.800000000000004, 58.35, 65.82000000000001, 72.04, 74.74, 74.86, 77.95, 78.36999999999999, 78.97, 79.27, 79.19, 79.99000000000001, 80.04, 80.01, 80.46, 79.86999999999999, 80.5, 80.46, 80.12, 80.55]}],\n",
              "                        {\"autosize\": false, \"font\": {\"color\": \"#7f7f7f\", \"family\": \"Courier New, monospace\", \"size\": 14}, \"height\": 450, \"template\": {\"data\": {\"bar\": [{\"error_x\": {\"color\": \"#2a3f5f\"}, \"error_y\": {\"color\": \"#2a3f5f\"}, \"marker\": {\"line\": {\"color\": \"#E5ECF6\", \"width\": 0.5}}, \"type\": \"bar\"}], \"barpolar\": [{\"marker\": {\"line\": {\"color\": \"#E5ECF6\", \"width\": 0.5}}, \"type\": \"barpolar\"}], \"carpet\": [{\"aaxis\": {\"endlinecolor\": \"#2a3f5f\", \"gridcolor\": \"white\", \"linecolor\": \"white\", \"minorgridcolor\": \"white\", \"startlinecolor\": \"#2a3f5f\"}, \"baxis\": {\"endlinecolor\": \"#2a3f5f\", \"gridcolor\": \"white\", \"linecolor\": \"white\", \"minorgridcolor\": \"white\", \"startlinecolor\": \"#2a3f5f\"}, \"type\": \"carpet\"}], \"choropleth\": [{\"colorbar\": {\"outlinewidth\": 0, \"ticks\": \"\"}, \"type\": \"choropleth\"}], \"contour\": [{\"colorbar\": {\"outlinewidth\": 0, \"ticks\": \"\"}, \"colorscale\": [[0.0, \"#0d0887\"], [0.1111111111111111, \"#46039f\"], [0.2222222222222222, \"#7201a8\"], [0.3333333333333333, \"#9c179e\"], [0.4444444444444444, \"#bd3786\"], [0.5555555555555556, \"#d8576b\"], [0.6666666666666666, \"#ed7953\"], [0.7777777777777778, \"#fb9f3a\"], [0.8888888888888888, \"#fdca26\"], [1.0, \"#f0f921\"]], \"type\": \"contour\"}], \"contourcarpet\": [{\"colorbar\": {\"outlinewidth\": 0, \"ticks\": \"\"}, \"type\": \"contourcarpet\"}], \"heatmap\": [{\"colorbar\": {\"outlinewidth\": 0, \"ticks\": \"\"}, \"colorscale\": [[0.0, \"#0d0887\"], [0.1111111111111111, \"#46039f\"], [0.2222222222222222, \"#7201a8\"], [0.3333333333333333, \"#9c179e\"], [0.4444444444444444, \"#bd3786\"], [0.5555555555555556, \"#d8576b\"], [0.6666666666666666, \"#ed7953\"], [0.7777777777777778, \"#fb9f3a\"], [0.8888888888888888, \"#fdca26\"], [1.0, \"#f0f921\"]], \"type\": \"heatmap\"}], \"heatmapgl\": [{\"colorbar\": {\"outlinewidth\": 0, \"ticks\": \"\"}, \"colorscale\": [[0.0, \"#0d0887\"], [0.1111111111111111, \"#46039f\"], [0.2222222222222222, \"#7201a8\"], [0.3333333333333333, \"#9c179e\"], [0.4444444444444444, \"#bd3786\"], [0.5555555555555556, \"#d8576b\"], [0.6666666666666666, \"#ed7953\"], [0.7777777777777778, \"#fb9f3a\"], [0.8888888888888888, \"#fdca26\"], [1.0, \"#f0f921\"]], \"type\": \"heatmapgl\"}], \"histogram\": [{\"marker\": {\"colorbar\": {\"outlinewidth\": 0, \"ticks\": \"\"}}, \"type\": \"histogram\"}], \"histogram2d\": [{\"colorbar\": {\"outlinewidth\": 0, \"ticks\": \"\"}, \"colorscale\": [[0.0, \"#0d0887\"], [0.1111111111111111, \"#46039f\"], [0.2222222222222222, \"#7201a8\"], [0.3333333333333333, \"#9c179e\"], [0.4444444444444444, \"#bd3786\"], [0.5555555555555556, \"#d8576b\"], [0.6666666666666666, \"#ed7953\"], [0.7777777777777778, \"#fb9f3a\"], [0.8888888888888888, \"#fdca26\"], [1.0, \"#f0f921\"]], \"type\": \"histogram2d\"}], \"histogram2dcontour\": [{\"colorbar\": {\"outlinewidth\": 0, \"ticks\": \"\"}, \"colorscale\": [[0.0, \"#0d0887\"], [0.1111111111111111, \"#46039f\"], [0.2222222222222222, \"#7201a8\"], [0.3333333333333333, \"#9c179e\"], [0.4444444444444444, \"#bd3786\"], [0.5555555555555556, \"#d8576b\"], [0.6666666666666666, \"#ed7953\"], [0.7777777777777778, \"#fb9f3a\"], [0.8888888888888888, \"#fdca26\"], [1.0, \"#f0f921\"]], \"type\": \"histogram2dcontour\"}], \"mesh3d\": [{\"colorbar\": {\"outlinewidth\": 0, \"ticks\": \"\"}, \"type\": \"mesh3d\"}], \"parcoords\": [{\"line\": {\"colorbar\": {\"outlinewidth\": 0, \"ticks\": \"\"}}, \"type\": \"parcoords\"}], \"pie\": [{\"automargin\": true, \"type\": \"pie\"}], \"scatter\": [{\"marker\": {\"colorbar\": {\"outlinewidth\": 0, \"ticks\": \"\"}}, \"type\": \"scatter\"}], \"scatter3d\": [{\"line\": {\"colorbar\": {\"outlinewidth\": 0, \"ticks\": \"\"}}, \"marker\": {\"colorbar\": {\"outlinewidth\": 0, \"ticks\": \"\"}}, \"type\": \"scatter3d\"}], \"scattercarpet\": [{\"marker\": {\"colorbar\": {\"outlinewidth\": 0, \"ticks\": \"\"}}, \"type\": \"scattercarpet\"}], \"scattergeo\": [{\"marker\": {\"colorbar\": {\"outlinewidth\": 0, \"ticks\": \"\"}}, \"type\": \"scattergeo\"}], \"scattergl\": [{\"marker\": {\"colorbar\": {\"outlinewidth\": 0, \"ticks\": \"\"}}, \"type\": \"scattergl\"}], \"scattermapbox\": [{\"marker\": {\"colorbar\": {\"outlinewidth\": 0, \"ticks\": \"\"}}, \"type\": \"scattermapbox\"}], \"scatterpolar\": [{\"marker\": {\"colorbar\": {\"outlinewidth\": 0, \"ticks\": \"\"}}, \"type\": \"scatterpolar\"}], \"scatterpolargl\": [{\"marker\": {\"colorbar\": {\"outlinewidth\": 0, \"ticks\": \"\"}}, \"type\": \"scatterpolargl\"}], \"scatterternary\": [{\"marker\": {\"colorbar\": {\"outlinewidth\": 0, \"ticks\": \"\"}}, \"type\": \"scatterternary\"}], \"surface\": [{\"colorbar\": {\"outlinewidth\": 0, \"ticks\": \"\"}, \"colorscale\": [[0.0, \"#0d0887\"], [0.1111111111111111, \"#46039f\"], [0.2222222222222222, \"#7201a8\"], [0.3333333333333333, \"#9c179e\"], [0.4444444444444444, \"#bd3786\"], [0.5555555555555556, \"#d8576b\"], [0.6666666666666666, \"#ed7953\"], [0.7777777777777778, \"#fb9f3a\"], [0.8888888888888888, \"#fdca26\"], [1.0, \"#f0f921\"]], \"type\": \"surface\"}], \"table\": [{\"cells\": {\"fill\": {\"color\": \"#EBF0F8\"}, \"line\": {\"color\": \"white\"}}, \"header\": {\"fill\": {\"color\": \"#C8D4E3\"}, \"line\": {\"color\": \"white\"}}, \"type\": \"table\"}]}, \"layout\": {\"annotationdefaults\": {\"arrowcolor\": \"#2a3f5f\", \"arrowhead\": 0, \"arrowwidth\": 1}, \"coloraxis\": {\"colorbar\": {\"outlinewidth\": 0, \"ticks\": \"\"}}, \"colorscale\": {\"diverging\": [[0, \"#8e0152\"], [0.1, \"#c51b7d\"], [0.2, \"#de77ae\"], [0.3, \"#f1b6da\"], [0.4, \"#fde0ef\"], [0.5, \"#f7f7f7\"], [0.6, \"#e6f5d0\"], [0.7, \"#b8e186\"], [0.8, \"#7fbc41\"], [0.9, \"#4d9221\"], [1, \"#276419\"]], \"sequential\": [[0.0, \"#0d0887\"], [0.1111111111111111, \"#46039f\"], [0.2222222222222222, \"#7201a8\"], [0.3333333333333333, \"#9c179e\"], [0.4444444444444444, \"#bd3786\"], [0.5555555555555556, \"#d8576b\"], [0.6666666666666666, \"#ed7953\"], [0.7777777777777778, \"#fb9f3a\"], [0.8888888888888888, \"#fdca26\"], [1.0, \"#f0f921\"]], \"sequentialminus\": [[0.0, \"#0d0887\"], [0.1111111111111111, \"#46039f\"], [0.2222222222222222, \"#7201a8\"], [0.3333333333333333, \"#9c179e\"], [0.4444444444444444, \"#bd3786\"], [0.5555555555555556, \"#d8576b\"], [0.6666666666666666, \"#ed7953\"], [0.7777777777777778, \"#fb9f3a\"], [0.8888888888888888, \"#fdca26\"], [1.0, \"#f0f921\"]]}, \"colorway\": [\"#636efa\", \"#EF553B\", \"#00cc96\", \"#ab63fa\", \"#FFA15A\", \"#19d3f3\", \"#FF6692\", \"#B6E880\", \"#FF97FF\", \"#FECB52\"], \"font\": {\"color\": \"#2a3f5f\"}, \"geo\": {\"bgcolor\": \"white\", \"lakecolor\": \"white\", \"landcolor\": \"#E5ECF6\", \"showlakes\": true, \"showland\": true, \"subunitcolor\": \"white\"}, \"hoverlabel\": {\"align\": \"left\"}, \"hovermode\": \"closest\", \"mapbox\": {\"style\": \"light\"}, \"paper_bgcolor\": \"white\", \"plot_bgcolor\": \"#E5ECF6\", \"polar\": {\"angularaxis\": {\"gridcolor\": \"white\", \"linecolor\": \"white\", \"ticks\": \"\"}, \"bgcolor\": \"#E5ECF6\", \"radialaxis\": {\"gridcolor\": \"white\", \"linecolor\": \"white\", \"ticks\": \"\"}}, \"scene\": {\"xaxis\": {\"backgroundcolor\": \"#E5ECF6\", \"gridcolor\": \"white\", \"gridwidth\": 2, \"linecolor\": \"white\", \"showbackground\": true, \"ticks\": \"\", \"zerolinecolor\": \"white\"}, \"yaxis\": {\"backgroundcolor\": \"#E5ECF6\", \"gridcolor\": \"white\", \"gridwidth\": 2, \"linecolor\": \"white\", \"showbackground\": true, \"ticks\": \"\", \"zerolinecolor\": \"white\"}, \"zaxis\": {\"backgroundcolor\": \"#E5ECF6\", \"gridcolor\": \"white\", \"gridwidth\": 2, \"linecolor\": \"white\", \"showbackground\": true, \"ticks\": \"\", \"zerolinecolor\": \"white\"}}, \"shapedefaults\": {\"line\": {\"color\": \"#2a3f5f\"}}, \"ternary\": {\"aaxis\": {\"gridcolor\": \"white\", \"linecolor\": \"white\", \"ticks\": \"\"}, \"baxis\": {\"gridcolor\": \"white\", \"linecolor\": \"white\", \"ticks\": \"\"}, \"bgcolor\": \"#E5ECF6\", \"caxis\": {\"gridcolor\": \"white\", \"linecolor\": \"white\", \"ticks\": \"\"}}, \"title\": {\"x\": 0.05}, \"xaxis\": {\"automargin\": true, \"gridcolor\": \"white\", \"linecolor\": \"white\", \"ticks\": \"\", \"title\": {\"standoff\": 15}, \"zerolinecolor\": \"white\", \"zerolinewidth\": 2}, \"yaxis\": {\"automargin\": true, \"gridcolor\": \"white\", \"linecolor\": \"white\", \"ticks\": \"\", \"title\": {\"standoff\": 15}, \"zerolinecolor\": \"white\", \"zerolinewidth\": 2}}}, \"title\": {\"text\": \"Metric Chart\"}, \"width\": 700, \"xaxis\": {\"title\": {\"text\": \"Epochs\"}}, \"yaxis\": {\"title\": {\"text\": \"Score\"}}},\n",
              "                        {\"responsive\": true}\n",
              "                    ).then(function(){\n",
              "                            \n",
              "var gd = document.getElementById('26aaa162-ee5b-4ecf-872d-5a57f446f7bf');\n",
              "var x = new MutationObserver(function (mutations, observer) {{\n",
              "        var display = window.getComputedStyle(gd).display;\n",
              "        if (!display || display === 'none') {{\n",
              "            console.log([gd, 'removed!']);\n",
              "            Plotly.purge(gd);\n",
              "            observer.disconnect();\n",
              "        }}\n",
              "}});\n",
              "\n",
              "// Listen for the removal of the full notebook cells\n",
              "var notebookContainer = gd.closest('#notebook-container');\n",
              "if (notebookContainer) {{\n",
              "    x.observe(notebookContainer, {childList: true});\n",
              "}}\n",
              "\n",
              "// Listen for the clearing of the current output cell\n",
              "var outputEl = gd.closest('.output');\n",
              "if (outputEl) {{\n",
              "    x.observe(outputEl, {childList: true});\n",
              "}}\n",
              "\n",
              "                        })\n",
              "                };\n",
              "                \n",
              "            </script>\n",
              "        </div>\n",
              "</body>\n",
              "</html>"
            ]
          },
          "metadata": {
            "tags": []
          }
        }
      ]
    },
    {
      "cell_type": "markdown",
      "metadata": {
        "id": "kmALm7EtpFow"
      },
      "source": [
        "## Testing Our Models with CIFAR100"
      ]
    },
    {
      "cell_type": "code",
      "metadata": {
        "id": "prIQA-PjpqV7",
        "colab": {
          "base_uri": "https://localhost:8080/"
        },
        "outputId": "1d366375-5bbf-4599-f5a4-86253f4c0b6b"
      },
      "source": [
        "transform = transforms.Compose(\n",
        "    [transforms.ToTensor(),\n",
        "     transforms.Normalize((0.5, 0.5, 0.5), (0.5, 0.5, 0.5))])\n",
        "\n",
        "trainset = torchvision.datasets.CIFAR100(root='./data/cifar100', train=True,\n",
        "                                         download=True, transform=transform)\n",
        "\n",
        "testset = torchvision.datasets.CIFAR100(root='./data/cifar100', train=False,\n",
        "                                        download=True, transform=transform)"
      ],
      "execution_count": null,
      "outputs": [
        {
          "output_type": "stream",
          "text": [
            "Files already downloaded and verified\n",
            "Files already downloaded and verified\n"
          ],
          "name": "stdout"
        }
      ]
    },
    {
      "cell_type": "markdown",
      "metadata": {
        "id": "v-GsOTY-sEOF"
      },
      "source": [
        "### Testing with GoogleNet"
      ]
    },
    {
      "cell_type": "code",
      "metadata": {
        "id": "lDSB4v2x8T3k"
      },
      "source": [
        "BATCH_SIZE = 50\n",
        "LR = 1e-3\n",
        "EPOCHS = 20\n",
        "REPORTS_EVERY = 1\n",
        "\n",
        "net = GoogLeNet(n_classes=100, use_aux_logits=True)\n",
        "optimizer = optim.AdamW(net.parameters(),lr=LR)\n",
        "criterion = nn.CrossEntropyLoss()\n",
        "scheduler = torch.optim.lr_scheduler.StepLR(\n",
        "  optimizer=optimizer,step_size=1,gamma=0.85,verbose=True\n",
        ")\n",
        "\n",
        "train_loader = DataLoader(\n",
        "  trainset, batch_size=BATCH_SIZE, shuffle=True, num_workers=2\n",
        ")\n",
        "test_loader = DataLoader(\n",
        "  testset, batch_size=BATCH_SIZE, shuffle=False, num_workers=2\n",
        ")\n",
        "\n",
        "google_train_loss, google_acc = train_for_classification(\n",
        "  net, train_loader, \n",
        "  test_loader,optimizer, \n",
        "  criterion, lr_scheduler=scheduler, \n",
        "  epochs=EPOCHS, reports_every=REPORTS_EVERY\n",
        ")\n",
        "\n",
        "google_train_loss_100 = {\n",
        "  \"x\": [x+1 for x in range(20)],\n",
        "  \"y\": google_train_loss,\n",
        "  \"name\": \"GoogleNet Training Loss\"\n",
        "}\n",
        "\n",
        "google_train_acc_100 = {\n",
        "  \"x\": [x+1 for x in range(20)],\n",
        "  \"y\": google_acc[0],\n",
        "  \"name\": \"GoogleNet Training Acc\"\n",
        "}\n",
        "\n",
        "google_val_acc_100 = {\n",
        "  \"x\": [x+1 for x in range(20)],\n",
        "  \"y\": google_acc[1],\n",
        "  \"name\": \"GoogleNet Validation Acc\"\n",
        "}"
      ],
      "execution_count": null,
      "outputs": []
    },
    {
      "cell_type": "markdown",
      "metadata": {
        "id": "cn41UPw7sqIm"
      },
      "source": [
        "### Testing with ResNet-34"
      ]
    },
    {
      "cell_type": "code",
      "metadata": {
        "id": "cnbmV9zCstAY"
      },
      "source": [
        "BATCH_SIZE = 50\r\n",
        "LR = 1e-3\r\n",
        "EPOCHS = 20\r\n",
        "REPORTS_EVERY = 1\r\n",
        "\r\n",
        "net = ResNet34(n_classes=100)\r\n",
        "optimizer = optim.AdamW(net.parameters(),lr=LR)\r\n",
        "criterion = nn.CrossEntropyLoss()\r\n",
        "scheduler = torch.optim.lr_scheduler.StepLR(\r\n",
        "  optimizer=optimizer,step_size=1,gamma=0.85,verbose=True\r\n",
        ")\r\n",
        "\r\n",
        "train_loader = DataLoader(\r\n",
        "  trainset, batch_size=BATCH_SIZE,\r\n",
        "  shuffle=True, num_workers=2\r\n",
        ")\r\n",
        "test_loader = DataLoader(\r\n",
        "  testset, batch_size=BATCH_SIZE,\r\n",
        "  shuffle=False, num_workers=2\r\n",
        ")\r\n",
        "\r\n",
        "res34_train_loss, res34_acc = train_for_classification(\r\n",
        "  net, train_loader, \r\n",
        "  test_loader, optimizer, \r\n",
        "  criterion, lr_scheduler=scheduler, \r\n",
        "  epochs=EPOCHS, reports_every=REPORTS_EVERY\r\n",
        ")\r\n",
        "\r\n",
        "res34_train_loss_100 = {\r\n",
        "  \"x\": [x+1 for x in range(20)],\r\n",
        "  \"y\": res34_train_loss,\r\n",
        "  \"name\": \"ResNet-34 Training Loss\"\r\n",
        "}\r\n",
        "\r\n",
        "res34_train_acc_100 = {\r\n",
        "  \"x\": [x+1 for x in range(20)],\r\n",
        "  \"y\": res34_acc[0],\r\n",
        "  \"name\": \"ResNet-34 Training Acc\"\r\n",
        "}\r\n",
        "\r\n",
        "res34_val_acc_100 = {\r\n",
        "  \"x\": [x+1 for x in range(20)],\r\n",
        "  \"y\": res34_acc[1],\r\n",
        "  \"name\": \"ResNet-34 Validation Acc\"\r\n",
        "}"
      ],
      "execution_count": null,
      "outputs": []
    },
    {
      "cell_type": "markdown",
      "metadata": {
        "id": "QLPQLIMEs3Ao"
      },
      "source": [
        "### Testing with ResNet-50"
      ]
    },
    {
      "cell_type": "code",
      "metadata": {
        "id": "JaEGI0LAs6pE"
      },
      "source": [
        "BATCH_SIZE = 50\r\n",
        "LR = 1e-3\r\n",
        "EPOCHS = 20\r\n",
        "REPORTS_EVERY = 1\r\n",
        "\r\n",
        "net = ResNet50(n_classes=100)\r\n",
        "optimizer = optim.AdamW(net.parameters(),lr=LR)\r\n",
        "criterion = nn.CrossEntropyLoss()\r\n",
        "scheduler = torch.optim.lr_scheduler.StepLR(\r\n",
        "  optimizer=optimizer,step_size=1,gamma=0.85,verbose=True\r\n",
        ")\r\n",
        "\r\n",
        "train_loader = DataLoader(\r\n",
        "  trainset, batch_size=BATCH_SIZE,\r\n",
        "  shuffle=True, num_workers=2\r\n",
        ")\r\n",
        "test_loader = DataLoader(\r\n",
        "  testset, batch_size=BATCH_SIZE,\r\n",
        "  shuffle=False, num_workers=2\r\n",
        ")\r\n",
        "\r\n",
        "res50_train_loss, res50_acc = train_for_classification(\r\n",
        "  net, train_loader, \r\n",
        "  test_loader, optimizer, \r\n",
        "  criterion, lr_scheduler=scheduler, \r\n",
        "  epochs=EPOCHS, reports_every=REPORTS_EVERY\r\n",
        ")\r\n",
        "\r\n",
        "res50_train_loss_100 = {\r\n",
        "  \"x\": [x+1 for x in range(20)],\r\n",
        "  \"y\": res50_train_loss,\r\n",
        "  \"name\": \"ResNet-50 Training Loss\"\r\n",
        "}\r\n",
        "\r\n",
        "res50_train_acc_100 = {\r\n",
        "  \"x\": [x+1 for x in range(20)],\r\n",
        "  \"y\": res50_acc[0],\r\n",
        "  \"name\": \"ResNet-50 Training Acc\"\r\n",
        "}\r\n",
        "\r\n",
        "res50_val_acc_100 = {\r\n",
        "  \"x\": [x+1 for x in range(20)],\r\n",
        "  \"y\": res50_acc[1],\r\n",
        "  \"name\": \"ResNet-50 Validation Acc\"\r\n",
        "}\r\n",
        "\r\n"
      ],
      "execution_count": null,
      "outputs": []
    },
    {
      "cell_type": "markdown",
      "metadata": {
        "id": "dJdX9YlbDN-9"
      },
      "source": [
        "## Results\r\n",
        "\r\n",
        "After Observing multiple experiments we can easily notice that `ResNet` models offers better results in terms of the used metrics (accuracy).\r\n",
        "\r\n",
        "There is a slightly improvement in terms of converging for `Resnet-50` but is also a bigger model which it can be also noticed in the AVG time spent for each model.\r\n",
        "\r\n",
        "All our experiments were done using the same configurations in terms of scheduler, optimizer, loss function and even learn rates.\r\n",
        "\r\n",
        "Regarding the optimizer We did not use the ones specified in the respective references of the studied models but we use `AdamW` instead.\r\n",
        "\r\n",
        "From now on in this work we will be using for codification the model which better results observed which is the prevoiusly mentioned `ResNet-50`."
      ]
    },
    {
      "cell_type": "markdown",
      "metadata": {
        "id": "QRNeU6di3NzC"
      },
      "source": [
        "# Part 2: Image Captioning\r\n",
        "In this section we will be exploring the image captioning problem. For this we will be using pre-trained embedding representation of the captions of the and the convolutional models we defined before to get an encoded representation of the images.\r\n",
        "\r\n",
        "Finally A new loss function needs to be used due to the nature of the problem. In this case we will be exploring the `TripletLoss` function and some of the parameters that it is receive.\r\n"
      ]
    },
    {
      "cell_type": "markdown",
      "metadata": {
        "id": "twAZ0BtioCT0"
      },
      "source": [
        "## Image and Text encoding\r\n",
        "In this section We will create a class to encode the information of our images and pre-trained caption embeddings. In this case we will use the same network structure for both but this can be easily changed and it can bring big changes in the results.\r\n",
        "\r\n",
        "Additionally we will be using the most common regularization strategies  based on `Dropout` and `Batch Normalization` layers.\r\n",
        "\r\n"
      ]
    },
    {
      "cell_type": "code",
      "metadata": {
        "id": "W9zd0b1MyAG8"
      },
      "source": [
        "# We use as base one of the models defined before\n",
        "# and add some dense layers to find relations between our represenations\n",
        "\n",
        "class ImageEncoding(nn.Module):\n",
        "  def __init__(self, cnn_model, cnn_out_size, out_size=128):\n",
        "    super(ImageEncoding, self).__init__()\n",
        "    self.cnn_model = cnn_model\n",
        "\n",
        "    self.seq = nn.Sequential(\n",
        "      nn.Dropout(p=0.4),\n",
        "      nn.Linear(in_features=cnn_out_size,out_features=512),\n",
        "      nn.BatchNorm1d(num_features=512),\n",
        "      nn.ReLU(),\n",
        "      nn.Dropout(p=0.2),\n",
        "      nn.Linear(in_features=512,out_features=256),\n",
        "      nn.BatchNorm1d(num_features=256),\n",
        "      nn.ReLU(),\n",
        "      nn.Dropout(p=0.1),\n",
        "      nn.Linear(in_features=256,out_features=out_size)\n",
        "    )\n",
        "\n",
        "  def forward(self, x):\n",
        "    x = self.cnn_model(x)['hidden']\n",
        "    x = self.seq(x)\n",
        "    return {'logits': x}"
      ],
      "execution_count": null,
      "outputs": []
    },
    {
      "cell_type": "code",
      "metadata": {
        "id": "UQ7NXhVY0xFr"
      },
      "source": [
        "# We will be encoding the pre-trained embeddings adding some dense layers\n",
        "# Looking for non-linear relations and regularization strategies\n",
        "class TextEncoding(nn.Module):\n",
        "  def __init__(self, text_embedding_size=4096, out_size=128):\n",
        "    super(TextEncoding, self).__init__()\n",
        "\n",
        "    self.seq = nn.Sequential(\n",
        "      nn.Dropout(p=0.4),\n",
        "      nn.Linear(in_features=text_embedding_size,out_features=512),\n",
        "      nn.BatchNorm1d(num_features=512),\n",
        "      nn.ReLU(),\n",
        "      nn.Dropout(p=0.2),\n",
        "      nn.Linear(in_features=512,out_features=256),\n",
        "      nn.BatchNorm1d(num_features=256),\n",
        "      nn.ReLU(),\n",
        "      nn.Dropout(p=0.1),\n",
        "      nn.Linear(in_features=256,out_features=out_size)\n",
        "    )\n",
        "\n",
        "  def forward(self, x):\n",
        "    return {'logits': self.seq(x) }"
      ],
      "execution_count": null,
      "outputs": []
    },
    {
      "cell_type": "code",
      "metadata": {
        "id": "08sa7MG4c-GD",
        "colab": {
          "base_uri": "https://localhost:8080/"
        },
        "outputId": "4f0181d2-f751-47c7-856d-14813c5668a6"
      },
      "source": [
        "# Running some automatic tests for our encodings\n",
        "OUT_SIZE = 200\n",
        "\n",
        "cnn_net = GoogLeNet(n_classes=10)\n",
        "i_enc = ImageEncoding(cnn_model=cnn_net, cnn_out_size=1024, out_size=OUT_SIZE)\n",
        "t_enc = TextEncoding(text_embedding_size=4096, out_size=OUT_SIZE)\n",
        "i_enc.eval()\n",
        "t_enc.eval()\n",
        "\n",
        "print(\"Correct Test!\" if (i_enc(torch.randn(9,3,32,32))['logits'].size()==t_enc(torch.randn(9,4096))['logits'].size()) else \"Failed Test [size]\")\n",
        "print(\"Correct Test!\" if (i_enc(torch.randn(9,3,32,32))['logits'].size(-1)==OUT_SIZE) else \"Failed Test [size]\")"
      ],
      "execution_count": null,
      "outputs": [
        {
          "output_type": "stream",
          "text": [
            "Correct Test!\n",
            "Correct Test!\n"
          ],
          "name": "stdout"
        }
      ]
    },
    {
      "cell_type": "markdown",
      "metadata": {
        "id": "yR8AqpDi3ZJL"
      },
      "source": [
        "## *Triplet Loss*\r\n",
        "\r\n",
        "We need to define a loss function which actually works for the nature of this problem. One of the most commonly used is the `TripletLoss`. This method consist in receive an `anchor` image and a set of `caption` the idea is to minimize the distance between our `anchor` and it is `correct` caption and maximize it in terms of the `incorrect` ones. The distance method to be used is the euclidean distance, and against which `incorrect` caption we will compare is determined by the `negative` parameter.\r\n",
        "\r\n"
      ]
    },
    {
      "cell_type": "code",
      "metadata": {
        "id": "fv0oqLTwv68U"
      },
      "source": [
        "# negative parameter changes the N_i choosen to compare agains the anchor image\n",
        "# valid values: max, random, all\n",
        "class TripletLoss(nn.Module):\n",
        "  def __init__(self, margin=.2, negative='max'):\n",
        "    super(TripletLoss, self).__init__()\n",
        "    self.margin = margin\n",
        "    self.negative = negative\n",
        "\n",
        "  def forward(self, anchor, positive):\n",
        "    dists = torch.cdist(anchor,positive,p=2.0)\n",
        "\n",
        "    p_dists = torch.diagonal(dists)\n",
        "    p_dists = p_dists.unsqueeze(1).expand_as(dists)\n",
        "\n",
        "    cost = (p_dists - dists + self.margin).clamp(min=0).fill_diagonal_(0)\n",
        "\n",
        "    if self.negative == 'max':\n",
        "      cost = torch.max(cost,1)[0]\n",
        "    elif self.negative == 'random':\n",
        "      weights = torch.ones_like(cost).fill_diagonal_(0) \n",
        "      ids = torch.multinomial(weights, num_samples=1)\n",
        "      cost = cost.gather(1, ids)\n",
        "\n",
        "    return cost[cost>0].mean()"
      ],
      "execution_count": null,
      "outputs": []
    },
    {
      "cell_type": "code",
      "metadata": {
        "id": "9HKUFhf70nbd",
        "colab": {
          "base_uri": "https://localhost:8080/"
        },
        "outputId": "f5cc545d-12ca-423b-d149-1676f24cc163"
      },
      "source": [
        "# Running automatic tests for our TripletLoss\n",
        "for test in [1,2]:\n",
        "  a, p, m, n  = corrector.get_test_data(homework=4, question=\"2b\", test=test, token=token)\n",
        "\n",
        "  criterion = TripletLoss(margin=m, negative=n)\n",
        "  result = criterion(torch.tensor(a), torch.tensor(p)).item()\n",
        "\n",
        "  corrector.submit(homework=4, question=\"2b\", test=test, token=token, answer=result, time=0)"
      ],
      "execution_count": null,
      "outputs": [
        {
          "output_type": "stream",
          "text": [
            "Correct Test!\n",
            "Correct Test!\n"
          ],
          "name": "stdout"
        }
      ]
    },
    {
      "cell_type": "markdown",
      "metadata": {
        "id": "BZcwMyTAwz28"
      },
      "source": [
        "## Testing in Flickr8k"
      ]
    },
    {
      "cell_type": "code",
      "metadata": {
        "id": "4E06OpFAxfuU",
        "colab": {
          "base_uri": "https://localhost:8080/"
        },
        "outputId": "805e7f7d-00c1-49f9-e918-cbe9ffecbbd4"
      },
      "source": [
        "# Downloading Flickr8k data \n",
        "\n",
        "folder_path = './data/flickr8k'\n",
        "if not os.path.exists(f'{folder_path}/images'):\n",
        "  print('\\n*** Descargando y extrayendo Flickr8k, siéntese y relájese 4 mins...')\n",
        "  print('****** Descargando las imágenes...\\n')\n",
        "  !wget https://s06.imfd.cl/04/CC6204/tareas/tarea4/Flickr8k_Dataset.zip -P $folder_path/images\n",
        "  print('\\n********* Extrayendo las imágenes...\\n  Si te sale mensaje de colab, dale Ignorar\\n')\n",
        "  !unzip -q $folder_path/images/Flickr8k_Dataset.zip -d $folder_path/images\n",
        "  print('\\n*** Descargando y anotaciones de la imágenes...\\n')\n",
        "  !wget http://hockenmaier.cs.illinois.edu/8k-pictures.html -P $folder_path/annotations\n",
        "\n",
        "transform=transforms.Compose([transforms.ToTensor(), \n",
        "                              transforms.Resize((32, 32)),\n",
        "                              transforms.Normalize((0.5, 0.5, 0.5), (0.5, 0.5, 0.5))])\n",
        "\n",
        "print('Inicializando pytorch Flickr8k dataset')\n",
        "full_flickr_set = torchvision.datasets.Flickr8k(root=f'{folder_path}/images/Flicker8k_Dataset',\n",
        "                                                ann_file = f'{folder_path}/annotations/8k-pictures.html',\n",
        "                                                transform=transform)\n",
        "print('Creando train, val y test splits...')\n",
        "\n",
        "train_flickr_set, val_flickr_set, test_flickr_set = [], [], []\n",
        "for i, item in enumerate(full_flickr_set):\n",
        "  if i<6000:\n",
        "    train_flickr_set.append(item)\n",
        "  elif i<7000:\n",
        "    val_flickr_set.append(item)\n",
        "  else:\n",
        "    test_flickr_set.append(item)"
      ],
      "execution_count": 15,
      "outputs": [
        {
          "output_type": "stream",
          "text": [
            "\n",
            "*** Descargando y extrayendo Flickr8k, siéntese y relájese 4 mins...\n",
            "****** Descargando las imágenes...\n",
            "\n",
            "--2020-12-18 23:45:17--  https://s06.imfd.cl/04/CC6204/tareas/tarea4/Flickr8k_Dataset.zip\n",
            "Resolving s06.imfd.cl (s06.imfd.cl)... 192.80.24.186\n",
            "Connecting to s06.imfd.cl (s06.imfd.cl)|192.80.24.186|:443... connected.\n",
            "HTTP request sent, awaiting response... 200 OK\n",
            "Length: 1115419746 (1.0G) [application/zip]\n",
            "Saving to: ‘./data/flickr8k/images/Flickr8k_Dataset.zip’\n",
            "\n",
            "Flickr8k_Dataset.zi  96%[==================> ]   1.01G  6.73MB/s    in 2m 52s  \n",
            "\n",
            "2020-12-18 23:48:10 (6.01 MB/s) - Connection closed at byte 1081176461. Retrying.\n",
            "\n",
            "--2020-12-18 23:48:11--  (try: 2)  https://s06.imfd.cl/04/CC6204/tareas/tarea4/Flickr8k_Dataset.zip\n",
            "Connecting to s06.imfd.cl (s06.imfd.cl)|192.80.24.186|:443... connected.\n",
            "HTTP request sent, awaiting response... 206 Partial Content\n",
            "Length: 1115419746 (1.0G), 34243285 (33M) remaining [application/zip]\n",
            "Saving to: ‘./data/flickr8k/images/Flickr8k_Dataset.zip’\n",
            "\n",
            "Flickr8k_Dataset.zi 100%[+++++++++++++++++++>]   1.04G  4.91MB/s    in 7.8s    \n",
            "\n",
            "2020-12-18 23:48:20 (4.19 MB/s) - ‘./data/flickr8k/images/Flickr8k_Dataset.zip’ saved [1115419746/1115419746]\n",
            "\n",
            "\n",
            "********* Extrayendo las imágenes...\n",
            "  Si te sale mensaje de colab, dale Ignorar\n",
            "\n",
            "\n",
            "*** Descargando y anotaciones de la imágenes...\n",
            "\n",
            "--2020-12-18 23:48:29--  http://hockenmaier.cs.illinois.edu/8k-pictures.html\n",
            "Resolving hockenmaier.cs.illinois.edu (hockenmaier.cs.illinois.edu)... 18.220.149.166\n",
            "Connecting to hockenmaier.cs.illinois.edu (hockenmaier.cs.illinois.edu)|18.220.149.166|:80... connected.\n",
            "HTTP request sent, awaiting response... 200 OK\n",
            "Length: 3699226 (3.5M) [text/html]\n",
            "Saving to: ‘./data/flickr8k/annotations/8k-pictures.html’\n",
            "\n",
            "8k-pictures.html    100%[===================>]   3.53M  4.62MB/s    in 0.8s    \n",
            "\n",
            "2020-12-18 23:48:30 (4.62 MB/s) - ‘./data/flickr8k/annotations/8k-pictures.html’ saved [3699226/3699226]\n",
            "\n",
            "Inicializando pytorch Flickr8k dataset\n",
            "Creando train, val y test splits...\n"
          ],
          "name": "stdout"
        }
      ]
    },
    {
      "cell_type": "code",
      "metadata": {
        "id": "iTY5bha_xgCj",
        "colab": {
          "base_uri": "https://localhost:8080/"
        },
        "outputId": "a771e2b2-c2b6-4885-eef1-b1b066602222"
      },
      "source": [
        "# Downloading pre-trained embeddings for the captions\n",
        "\n",
        "if not os.path.exists(f'{folder_path}/flickr_cap_encodings_4096d.pkl'):\n",
        "  !wget https://s06.imfd.cl/04/CC6204/tareas/tarea4/flickr_cap_encodings_4096d.pkl -P $folder_path\n",
        "\n",
        "with open(f'{folder_path}/flickr_cap_encodings_4096d.pkl', 'rb') as f:\n",
        "  train_cap_encs, val_cap_encs, test_cap_encs = pickle.load(f)\n",
        "\n",
        "# Using ImageCaptionDataset defined in torchvision to handle all our data \n",
        "train_flickr_tripletset = ImageCaptionDataset(train_flickr_set, train_cap_encs)\n",
        "val_flickr_tripletset = ImageCaptionDataset(val_flickr_set, val_cap_encs)\n",
        "test_flickr_tripletset = ImageCaptionDataset(test_flickr_set, test_cap_encs)\n"
      ],
      "execution_count": null,
      "outputs": [
        {
          "output_type": "stream",
          "text": [
            "--2020-12-18 23:50:30--  https://s06.imfd.cl/04/CC6204/tareas/tarea4/flickr_cap_encodings_4096d.pkl\n",
            "Resolving s06.imfd.cl (s06.imfd.cl)... 192.80.24.186\n",
            "Connecting to s06.imfd.cl (s06.imfd.cl)|192.80.24.186|:443... connected.\n",
            "HTTP request sent, awaiting response... 200 OK\n",
            "Length: 628212160 (599M) [application/octet-stream]\n",
            "Saving to: ‘./data/flickr8k/flickr_cap_encodings_4096d.pkl’\n",
            "\n",
            "         flickr_cap   9%[>                   ]  56.65M  6.60MB/s    eta 1m 47s "
          ],
          "name": "stdout"
        }
      ]
    },
    {
      "cell_type": "code",
      "metadata": {
        "id": "MwUizzbOG6uW"
      },
      "source": [
        "BATCH_SIZE = 50\r\n",
        "LR = 1e-3\r\n",
        "EPOCHS = 20\r\n",
        "REPORTS_EVERY = 1\r\n",
        "CNN_OUT_SIZE = 2048\r\n",
        "EMBEDDING_SIZE = 4096\r\n",
        "OUT_SIZE = 512\r\n",
        "MARGIN = .2\r\n",
        "NEGATIVE = \"all\"\r\n",
        "\r\n",
        "# Resnet dummy parameter because we do not use this model for classify only for encoding\r\n",
        "# TODO: should be changed for a default value?\r\n",
        "cnn_net = ResNet50(10)\r\n",
        "img_net = ImageEncoding(cnn_model=cnn_net, cnn_out_size=CNN_OUT_SIZE, \r\n",
        "                        out_size=OUT_SIZE) \r\n",
        "\r\n",
        "text_net = TextEncoding(text_embedding_size=EMBEDDING_SIZE, out_size=OUT_SIZE)\r\n",
        "\r\n",
        "optimizer = optim.AdamW([{'params': img_net.parameters()},\r\n",
        "                        {'params': text_net.parameters()}],\r\n",
        "                       lr=LR)\r\n",
        "criterion = TripletLoss(margin=MARGIN, negative=NEGATIVE)\r\n",
        "scheduler = torch.optim.lr_scheduler.StepLR(optimizer=optimizer,step_size=5,gamma=0.85,verbose=True)\r\n",
        "\r\n",
        "train_triplets_loader = DataLoader(train_flickr_tripletset, batch_size=BATCH_SIZE,\r\n",
        "                                   shuffle=True, num_workers=2)\r\n",
        "val_triplets_loader = DataLoader(val_flickr_tripletset, batch_size=BATCH_SIZE,\r\n",
        "                                 shuffle=False, num_workers=2)\r\n",
        "\r\n",
        "train_loss_flick, meanrr_flick, r10_flick = train_for_retrieval(img_net, text_net, \r\n",
        "                                              train_triplets_loader, \r\n",
        "                                              val_triplets_loader, optimizer, \r\n",
        "                                              criterion, scheduler, EPOCHS, \r\n",
        "                                              REPORTS_EVERY, norm=False)\r\n",
        "\r\n",
        "train_loss_flick = {\r\n",
        "  \"x\": [x+1 for x in range(20)],\r\n",
        "  \"y\": train_loss_flick,\r\n",
        "  \"name\": \"ResNet-50 Flickr8k Training Loss\"\r\n",
        "}\r\n",
        "\r\n",
        "meanrr_train_flick = {\r\n",
        "  \"x\": [x+1 for x in range(20)],\r\n",
        "  \"y\": meanrr_flick[0],\r\n",
        "  \"name\": \"ResNet-50 Flickr8k Training MRR\"\r\n",
        "}\r\n",
        "\r\n",
        "meanrr_val_flick = {\r\n",
        "  \"x\": [x+1 for x in range(20)],\r\n",
        "  \"y\": meanrr_flick[1],\r\n",
        "  \"name\": \"ResNet-50 Flickr8k Validation MRR\"\r\n",
        "}\r\n",
        "\r\n",
        "r10_train_flick = {\r\n",
        "  \"x\": [x+1 for x in range(20)],\r\n",
        "  \"y\": r10_flick[0],\r\n",
        "  \"name\": \"ResNet-50 Flickr8k Training R@10\"\r\n",
        "}\r\n",
        "\r\n",
        "r10_val_flick = {\r\n",
        "  \"x\": [x+1 for x in range(20)],\r\n",
        "  \"y\": r10_flick[1],\r\n",
        "  \"name\": \"ResNet-50 Flickr8k Validation R@10\"\r\n",
        "}\r\n"
      ],
      "execution_count": null,
      "outputs": []
    },
    {
      "cell_type": "code",
      "metadata": {
        "id": "rrgaHpXDIVB6"
      },
      "source": [
        "plot_results([train_loss_flick], [meanrr_train_flick,meanrr_val_flick], [r10_train_flick,r10_val_flick])"
      ],
      "execution_count": null,
      "outputs": []
    },
    {
      "cell_type": "code",
      "metadata": {
        "id": "9CYP1n6c6_c8"
      },
      "source": [
        "# Running automatic tests\n",
        "from PIL import Image\n",
        "n_samples = 64\n",
        "\n",
        "samples = torch.stack([test_flickr_tripletset[i][0] for i in range(n_samples)]).cuda()\n",
        "refs = torch.stack([torch.from_numpy(test_flickr_tripletset[i][1]) for i in range(n_samples)]).cuda()\n",
        "test_caps = [caps[0] for _, caps in test_flickr_set][:n_samples]\n",
        "\n",
        "samples_enc = img_net(samples)['logits']\n",
        "refs_enc = text_net(refs)['logits']\n",
        "\n",
        "dists = torch.cdist(samples_enc.unsqueeze(0), refs_enc.unsqueeze(0), p=2).squeeze(0)\n",
        "ranks = torch.argsort(dists, dim=1)[:,:10]\n",
        "r10 = len([i for i in range(len(ranks)) if len(torch.where(ranks[i,:] == i)[0])]) / len(ranks)\n",
        "\n",
        "print(\"Correct Test!\" if r10 >= .25 else \"Failed Test! [R@10]\")\n",
        "\n",
        "fig, axs = plt.subplots(nrows=n_samples, figsize=(2,n_samples*5))\n",
        "for i in range(n_samples):\n",
        "  axs[i].imshow(Image.open(full_flickr_set.ids[7000+i]))\n",
        "  axs[i].text(600,0,\"EXPECTED:\\n{}: {}\".format(i, test_caps[i]), fontsize=12, fontweight='bold')\n",
        "  axs[i].text(600,750,\"PREDICTED RANK:\\n{}\".format('\\n'.join([f'{j}: {test_caps[j]}' for j in ranks[i]])), fontsize=12)"
      ],
      "execution_count": null,
      "outputs": []
    },
    {
      "cell_type": "markdown",
      "metadata": {
        "id": "PTd9gUB5xwta"
      },
      "source": [
        "## Testing with COCO captions"
      ]
    },
    {
      "cell_type": "code",
      "metadata": {
        "id": "Uf0hHCkKx0Kz"
      },
      "source": [
        "# Downloading data for COCO captions dataset\n",
        "\n",
        "folder_path = './data/coco-caps'\n",
        "if not os.path.exists(f'{folder_path}/images/train2014'):\n",
        "  print('\\n*** Descargando y extrayendo COCO Captions, siéntese y relájese unos 20 mins...')\n",
        "  print('****** Descargando training set...\\n')\n",
        "  !wget http://images.cocodataset.org/zips/train2014.zip -P $folder_path/images\n",
        "  print('\\n********* Extrayendo training set...\\n  Si te sale mensaje de colab, dale Ignorar\\n')\n",
        "  !unzip -q $folder_path/images/train2014.zip -d $folder_path/images && rm $folder_path/images/train2014.zip\n",
        "  print('\\n*** Descargando y extrayendo validation set...\\n')\n",
        "  !wget http://images.cocodataset.org/zips/val2014.zip -P $folder_path/images && unzip -q $folder_path/images/val2014.zip -d $folder_path/images && rm $folder_path/images/val2014.zip\n",
        "  print('\\n*** Descargando y anotaciones de la imágenes...\\n')\n",
        "  !wget http://images.cocodataset.org/annotations/annotations_trainval2014.zip -P $folder_path && unzip -q $folder_path/annotations_trainval2014.zip -d $folder_path && rm $folder_path/images/annotations_trainval2014.zip\n",
        "\n",
        "transform=transforms.Compose([transforms.ToTensor(), \n",
        "                              transforms.Resize((32, 32)),\n",
        "                              transforms.Normalize((0.5, 0.5, 0.5), (0.5, 0.5, 0.5))])\n",
        "\n",
        "train_coco_set = torchvision.datasets.CocoCaptions(root=f'{folder_path}/images/train2014',\n",
        "                                                   annFile = f'{folder_path}/annotations/captions_train2014.json',\n",
        "                                                   transform=transform)\n",
        "\n",
        "val_coco_set = torchvision.datasets.CocoCaptions(root=f'{folder_path}/images/val2014',\n",
        "                                                 annFile = f'{folder_path}/annotations/captions_val2014.json',\n",
        "                                                 transform=transform)\n"
      ],
      "execution_count": null,
      "outputs": []
    },
    {
      "cell_type": "code",
      "metadata": {
        "id": "FUZmJrvfJOxs"
      },
      "source": [
        "# Downloading pre_trained embedding Captions for COCO \n",
        "if not os.path.exists(f'{folder_path}/cap_encodings_512d.pkl'):\n",
        "  !wget https://s06.imfd.cl/04/CC6204/tareas/tarea4/cap_encodings_512d.pkl -P $folder_path\n",
        "\n",
        "with open(f'{folder_path}/cap_encodings_512d.pkl', 'rb') as f:\n",
        "  train_cap_encs, val_cap_encs = pickle.load(f)\n",
        "\n",
        "train_coco_tripletset = ImageCaptionDataset(train_coco_set, train_cap_encs)\n",
        "val_coco_tripletset = ImageCaptionDataset(val_coco_set, val_cap_encs)"
      ],
      "execution_count": null,
      "outputs": []
    },
    {
      "cell_type": "code",
      "metadata": {
        "id": "wXxbiC0bJY6M"
      },
      "source": [
        "BATCH_SIZE = 50\n",
        "LR = 1e-3\n",
        "EPOCHS = 5\n",
        "REPORTS_EVERY = 1\n",
        "CNN_PREV_SIZE = 2048\n",
        "EMBEDDING_SIZE = 512\n",
        "OUT_SIZE = 512\n",
        "MARGIN = .2\n",
        "NEGATIVE = \"all\"\n",
        "\n",
        "cnn_net = ResNet50(10)\n",
        "img_net = ImageEncoding(cnn_model=cnn_net, cnn_out_size=CNN_PREV_SIZE, \n",
        "                        out_size=OUT_SIZE) \n",
        "\n",
        "text_net = TextEncoding(text_embedding_size=EMBEDDING_SIZE, out_size=OUT_SIZE)\n",
        "\n",
        "optimizer = optim.Adam([{'params': img_net.parameters()},\n",
        "                        {'params': text_net.parameters()}], \n",
        "                       lr=LR)\n",
        "criterion = TripletLoss(margin=MARGIN, negative=NEGATIVE)\n",
        "scheduler = torch.optim.lr_scheduler.StepLR(optimizer=optimizer,step_size=5,gamma=0.85,verbose=True)\n",
        "\n",
        "train_triplets_loader = DataLoader(train_coco_tripletset, batch_size=BATCH_SIZE,\n",
        "                                   shuffle=True, num_workers=2)\n",
        "val_triplets_loader = DataLoader(val_coco_tripletset, batch_size=BATCH_SIZE,\n",
        "                                 shuffle=False, num_workers=2)\n",
        "\n",
        "train_loss_coco, meanrr_coco, r10_coco = train_for_retrieval(img_net, text_net, \n",
        "                                              train_triplets_loader, \n",
        "                                              val_triplets_loader, optimizer, \n",
        "                                              criterion, scheduler, EPOCHS, \n",
        "                                              REPORTS_EVERY, norm=False)\n",
        "\n",
        "train_loss_coco = {\n",
        "  \"x\": [x+1 for x in range(20)],\n",
        "  \"y\": train_loss_coco,\n",
        "  \"name\": \"ResNet-50 COCO Training Loss\"\n",
        "}\n",
        "\n",
        "meanrr_train_coco = {\n",
        "  \"x\": [x+1 for x in range(20)],\n",
        "  \"y\": meanrr_coco[0],\n",
        "  \"name\": \"ResNet-50 COCO Training MRR\"\n",
        "}\n",
        "\n",
        "meanrr_val_coco = {\n",
        "  \"x\": [x+1 for x in range(20)],\n",
        "  \"y\": meanrr_coco[1],\n",
        "  \"name\": \"ResNet-50 COCO Validation MRR\"\n",
        "}\n",
        "\n",
        "r10_train_coco = {\n",
        "  \"x\": [x+1 for x in range(20)],\n",
        "  \"y\": r10_coco[0],\n",
        "  \"name\": \"ResNet-50 COCO Training R@10\"\n",
        "}\n",
        "\n",
        "r10_val_coco = {\n",
        "  \"x\": [x+1 for x in range(20)],\n",
        "  \"y\": r10_coco[1],\n",
        "  \"name\": \"ResNet-50 COCO Validation R@10\"\n",
        "}"
      ],
      "execution_count": null,
      "outputs": []
    },
    {
      "cell_type": "code",
      "metadata": {
        "id": "Akv3ihNpJpB9"
      },
      "source": [
        "plot_results([train_loss_coco], [meanrr_train_coco,meanrr_val_coco], [r10_train_coco,r10_val_coco])"
      ],
      "execution_count": null,
      "outputs": []
    },
    {
      "cell_type": "markdown",
      "metadata": {
        "id": "YK1Do8xhJ5m6"
      },
      "source": [
        "# Results, Analysis and Future works\r\n",
        "\r\n",
        "After an extense study in diverse experiments with really deep convolutional networks is observable that there are a lot of different configurations to be applied. We try to keep a fixed structure in our test to be able to compare strictly the models, but in reality these researches are presented even with different optimizers, schedulers and number of epochs.\r\n",
        "\r\n",
        "Even when our models are an adaptation of the original ones we can obtain pretty good results in these extensive and not trivial datasets for more complex tasks like image captioning.\r\n",
        "\r\n",
        "Regarding the structure used to construct the models an important comment for all those who want to start using pytorch could be that: `nn.Sequential` can be a powerful and clean tool to build complex models but the classic `printing` debugging tool will not be effective at all. A better deguber is recommended.\r\n",
        "\r\n",
        "Another important thing to mention is that we worked with input images with different sizes in comparison to the ones used when the studied models were defined, specifically we reduce our images until `4x4` and not `7x7` as the original networks. This can have an impact also in the results, a possible valid future apporoach could be reduce them to `8x8` or some value closer to `7x7`.\r\n",
        "\r\n",
        "Regarding the padding approach used, is the one by default use by pytorch which is the one mentioned in the original researches (ZeroPadding). Trying a different padding strategy could be also a valid future work.\r\n",
        "\r\n",
        "It is also possible to think in implementing more modern, bigger and complex deep convolutional networks like `DenseNet`.\r\n",
        "\r\n",
        "A more interesting test can be done using a more complex scheduler like: `ReduceLROnPlateau` which can provide a better and more sophisticated way to reduce our learn rate during the epochs.\r\n",
        "\r\n",
        "Finally, changin the image encoding or text approach encoding could be vital to obtain better results even in the networks used are the same.\r\n",
        "\r\n",
        "\r\n"
      ]
    }
  ]
}